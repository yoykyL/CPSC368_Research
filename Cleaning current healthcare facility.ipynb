{
 "cells": [
  {
   "cell_type": "code",
   "id": "initial_id",
   "metadata": {
    "collapsed": true,
    "ExecuteTime": {
     "end_time": "2025-03-15T01:45:45.433232Z",
     "start_time": "2025-03-15T01:45:45.380461Z"
    }
   },
   "source": [
    "import pandas as pd\n",
    "\n",
    "# Load the dataset\n",
    "file_path = \"data/current-healthcare-facility-listing.csv\"  # Update with the actual file path\n",
    "df = pd.read_csv(file_path)\n",
    "\n",
    "# Convert 'FACILITY_STATUS_DATE' to datetime format and extract the year\n",
    "df[\"FACILITY_STATUS_DATE\"] = pd.to_datetime(df[\"FACILITY_STATUS_DATE\"], errors='coerce')\n",
    "df[\"Year\"] = df[\"FACILITY_STATUS_DATE\"].dt.year\n",
    "\n",
    "# Apply filters: Only Open Hospitals for the years 2019, 2020, 2021\n",
    "filtered_df = df[(df[\"FACILITY_STATUS_DESC\"] == \"Open\") &\n",
    "                 (df[\"LICENSE_TYPE_DESC\"] == \"Hospital\") &\n",
    "                 (df[\"Year\"].between(2019, 2021))]\n",
    "\n",
    "# Group by Year and County, then count facilities\n",
    "result_df = (\n",
    "    filtered_df.groupby([\"Year\", \"COUNTY_NAME\"])\n",
    "    .size()\n",
    "    .reset_index(name=\"Counts\")\n",
    ")\n",
    "\n",
    "# Save to CSV (optional)\n",
    "output_file = \"data/cleaned_data/filtered_facilities_count_2019_2021.csv\"\n",
    "result_df.to_csv(output_file, index=False)\n",
    "\n",
    "# Display the processed data\n",
    "print(result_df)  # Prints first few rows\n"
   ],
   "outputs": [
    {
     "name": "stdout",
     "output_type": "stream",
     "text": [
      "    Year    COUNTY_NAME  Counts\n",
      "0   2019        Alameda       1\n",
      "1   2019      San Diego       1\n",
      "2   2019  San Francisco       1\n",
      "3   2019    Santa Clara       3\n",
      "4   2020         Fresno       1\n",
      "5   2020          Modoc       1\n",
      "6   2020      Riverside       1\n",
      "7   2020         Sutter       1\n",
      "8   2020        Ventura       1\n",
      "9   2021          Butte       1\n",
      "10  2021     Sacramento       2\n",
      "11  2021      San Diego       1\n"
     ]
    }
   ],
   "execution_count": 9
  },
  {
   "metadata": {},
   "cell_type": "code",
   "outputs": [],
   "execution_count": null,
   "source": "",
   "id": "a938b574dfed1beb"
  }
 ],
 "metadata": {
  "kernelspec": {
   "display_name": "Python 3",
   "language": "python",
   "name": "python3"
  },
  "language_info": {
   "codemirror_mode": {
    "name": "ipython",
    "version": 2
   },
   "file_extension": ".py",
   "mimetype": "text/x-python",
   "name": "python",
   "nbconvert_exporter": "python",
   "pygments_lexer": "ipython2",
   "version": "2.7.6"
  }
 },
 "nbformat": 4,
 "nbformat_minor": 5
}
