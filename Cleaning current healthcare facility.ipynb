{
 "cells": [
  {
   "cell_type": "code",
   "id": "initial_id",
   "metadata": {
    "collapsed": true,
    "ExecuteTime": {
     "end_time": "2025-03-14T19:44:12.714717Z",
     "start_time": "2025-03-14T19:44:12.384445Z"
    }
   },
   "source": [
    "import pandas as pd\n",
    "\n",
    "# Load the dataset\n",
    "file_path = \"data/current-healthcare-facility-listing.csv\"  # Update with the actual file path\n",
    "df = pd.read_csv(file_path)\n",
    "\n",
    "# Convert 'FACILITY_STATUS_DATE' to datetime format and extract the year\n",
    "df[\"FACILITY_STATUS_DATE\"] = pd.to_datetime(df[\"FACILITY_STATUS_DATE\"], errors='coerce')\n",
    "df[\"Year\"] = df[\"FACILITY_STATUS_DATE\"].dt.year\n",
    "\n",
    "# Apply filters: Only Open Hospitals\n",
    "filtered_df = df[(df[\"FACILITY_STATUS_DESC\"] == \"Open\") & (df[\"LICENSE_TYPE_DESC\"] == \"Hospital\") & (df[\"Year\"].between(2019, 2021))]\n",
    "\n",
    "# Group by Year and County, then count facilities\n",
    "result_df = (\n",
    "    filtered_df.groupby([\"Year\", \"COUNTY_NAME\"])\n",
    "    .size()\n",
    "    .reset_index(name=\"Counts\")\n",
    ")\n",
    "\n",
    "# Save to CSV (optional)\n",
    "output_file = \"filtered_facilities_count.csv\"\n",
    "result_df.to_csv(output_file, index=False)\n",
    "\n",
    "# Display the processed data\n",
    "print(result_df.head())  # Prints first few rows\n"
   ],
   "outputs": [
    {
     "name": "stdout",
     "output_type": "stream",
     "text": [
      "   Year    COUNTY_NAME  Counts\n",
      "0  2019        Alameda       1\n",
      "1  2019      San Diego       1\n",
      "2  2019  San Francisco       1\n",
      "3  2019    Santa Clara       3\n",
      "4  2020         Fresno       1\n"
     ]
    }
   ],
   "execution_count": 1
  },
  {
   "metadata": {},
   "cell_type": "code",
   "outputs": [],
   "execution_count": null,
   "source": "",
   "id": "a7c15d0eebe73667"
  }
 ],
 "metadata": {
  "kernelspec": {
   "display_name": "Python 3",
   "language": "python",
   "name": "python3"
  },
  "language_info": {
   "codemirror_mode": {
    "name": "ipython",
    "version": 2
   },
   "file_extension": ".py",
   "mimetype": "text/x-python",
   "name": "python",
   "nbconvert_exporter": "python",
   "pygments_lexer": "ipython2",
   "version": "2.7.6"
  }
 },
 "nbformat": 4,
 "nbformat_minor": 5
}
