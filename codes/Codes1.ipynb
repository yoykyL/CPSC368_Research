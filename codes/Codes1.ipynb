{
 "cells": [
  {
   "cell_type": "markdown",
   "id": "2436549a-36ab-46f0-bf3c-1a9ef38acbd4",
   "metadata": {},
   "source": [
    "# Data Cleaning"
   ]
  },
  {
   "cell_type": "code",
   "execution_count": 2,
   "id": "a095e338-f734-4923-9e1b-339f4e74e71a",
   "metadata": {
    "ExecuteTime": {
     "end_time": "2025-04-09T02:23:05.927203Z",
     "start_time": "2025-04-09T02:23:05.923958Z"
    }
   },
   "outputs": [],
   "source": [
    "import os\n",
    "\n",
    "import pandas as pd"
   ]
  },
  {
   "cell_type": "code",
   "execution_count": 3,
   "id": "72dc379b-4056-45a9-b2a5-f760bc6f71d7",
   "metadata": {
    "ExecuteTime": {
     "end_time": "2025-04-09T02:25:53.918105Z",
     "start_time": "2025-04-09T02:25:53.875363Z"
    }
   },
   "outputs": [
    {
     "data": {
      "text/html": [
       "<div>\n",
       "<style scoped>\n",
       "    .dataframe tbody tr th:only-of-type {\n",
       "        vertical-align: middle;\n",
       "    }\n",
       "\n",
       "    .dataframe tbody tr th {\n",
       "        vertical-align: top;\n",
       "    }\n",
       "\n",
       "    .dataframe thead th {\n",
       "        text-align: right;\n",
       "    }\n",
       "</style>\n",
       "<table border=\"1\" class=\"dataframe\">\n",
       "  <thead>\n",
       "    <tr style=\"text-align: right;\">\n",
       "      <th></th>\n",
       "      <th>Year</th>\n",
       "      <th>Strata</th>\n",
       "      <th>Strata Name</th>\n",
       "      <th>County</th>\n",
       "      <th>Total Admits (ICD-9)</th>\n",
       "      <th>30-day Readmits (ICD-9)</th>\n",
       "      <th>30-day Readmission Rate (ICD-9)</th>\n",
       "      <th>Total Admits (ICD-10)</th>\n",
       "      <th>30-day Readmits (ICD-10)</th>\n",
       "      <th>30-day Readmission Rate (ICD-10)</th>\n",
       "    </tr>\n",
       "  </thead>\n",
       "  <tbody>\n",
       "    <tr>\n",
       "      <th>0</th>\n",
       "      <td>2011</td>\n",
       "      <td>Overall</td>\n",
       "      <td>Overall</td>\n",
       "      <td>State</td>\n",
       "      <td>1948641.0</td>\n",
       "      <td>272268.0</td>\n",
       "      <td>14%</td>\n",
       "      <td>NaN</td>\n",
       "      <td>NaN</td>\n",
       "      <td>NaN</td>\n",
       "    </tr>\n",
       "    <tr>\n",
       "      <th>1</th>\n",
       "      <td>2011</td>\n",
       "      <td>Age</td>\n",
       "      <td>18 to 44 years</td>\n",
       "      <td>State</td>\n",
       "      <td>326070.0</td>\n",
       "      <td>36855.0</td>\n",
       "      <td>11.30%</td>\n",
       "      <td>NaN</td>\n",
       "      <td>NaN</td>\n",
       "      <td>NaN</td>\n",
       "    </tr>\n",
       "    <tr>\n",
       "      <th>2</th>\n",
       "      <td>2011</td>\n",
       "      <td>Age</td>\n",
       "      <td>45 to 64 years</td>\n",
       "      <td>State</td>\n",
       "      <td>659801.0</td>\n",
       "      <td>90891.0</td>\n",
       "      <td>13.80%</td>\n",
       "      <td>NaN</td>\n",
       "      <td>NaN</td>\n",
       "      <td>NaN</td>\n",
       "    </tr>\n",
       "    <tr>\n",
       "      <th>3</th>\n",
       "      <td>2011</td>\n",
       "      <td>Age</td>\n",
       "      <td>65 years and above</td>\n",
       "      <td>State</td>\n",
       "      <td>962771.0</td>\n",
       "      <td>144522.0</td>\n",
       "      <td>15%</td>\n",
       "      <td>NaN</td>\n",
       "      <td>NaN</td>\n",
       "      <td>NaN</td>\n",
       "    </tr>\n",
       "    <tr>\n",
       "      <th>4</th>\n",
       "      <td>2011</td>\n",
       "      <td>Sex</td>\n",
       "      <td>Male</td>\n",
       "      <td>State</td>\n",
       "      <td>901776.0</td>\n",
       "      <td>132417.0</td>\n",
       "      <td>14.70%</td>\n",
       "      <td>NaN</td>\n",
       "      <td>NaN</td>\n",
       "      <td>NaN</td>\n",
       "    </tr>\n",
       "  </tbody>\n",
       "</table>\n",
       "</div>"
      ],
      "text/plain": [
       "   Year   Strata         Strata Name County  Total Admits (ICD-9)  \\\n",
       "0  2011  Overall             Overall  State             1948641.0   \n",
       "1  2011      Age      18 to 44 years  State              326070.0   \n",
       "2  2011      Age      45 to 64 years  State              659801.0   \n",
       "3  2011      Age  65 years and above  State              962771.0   \n",
       "4  2011      Sex                Male  State              901776.0   \n",
       "\n",
       "   30-day Readmits (ICD-9)  30-day Readmission Rate (ICD-9)  \\\n",
       "0                  272268.0                             14%   \n",
       "1                   36855.0                          11.30%   \n",
       "2                   90891.0                          13.80%   \n",
       "3                  144522.0                             15%   \n",
       "4                  132417.0                          14.70%   \n",
       "\n",
       "  Total Admits (ICD-10) 30-day Readmits (ICD-10)   \\\n",
       "0                   NaN                       NaN   \n",
       "1                   NaN                       NaN   \n",
       "2                   NaN                       NaN   \n",
       "3                   NaN                       NaN   \n",
       "4                   NaN                       NaN   \n",
       "\n",
       "  30-day Readmission Rate (ICD-10)  \n",
       "0                              NaN  \n",
       "1                              NaN  \n",
       "2                              NaN  \n",
       "3                              NaN  \n",
       "4                              NaN  "
      ]
     },
     "execution_count": 3,
     "metadata": {},
     "output_type": "execute_result"
    }
   ],
   "source": [
    "primary = pd.read_csv(\n",
    "    \"../data/allcauseunplanned30-dayhospitalreadmissionratecalifornia2011_2023.csv\"\n",
    ")\n",
    "primary.head()"
   ]
  },
  {
   "cell_type": "code",
   "execution_count": 4,
   "id": "9e1a66da-0c58-4715-b0db-a76b832de36b",
   "metadata": {},
   "outputs": [
    {
     "data": {
      "text/html": [
       "<div>\n",
       "<style scoped>\n",
       "    .dataframe tbody tr th:only-of-type {\n",
       "        vertical-align: middle;\n",
       "    }\n",
       "\n",
       "    .dataframe tbody tr th {\n",
       "        vertical-align: top;\n",
       "    }\n",
       "\n",
       "    .dataframe thead th {\n",
       "        text-align: right;\n",
       "    }\n",
       "</style>\n",
       "<table border=\"1\" class=\"dataframe\">\n",
       "  <thead>\n",
       "    <tr style=\"text-align: right;\">\n",
       "      <th></th>\n",
       "      <th>Year</th>\n",
       "      <th>Strata</th>\n",
       "      <th>Strata Name</th>\n",
       "      <th>County</th>\n",
       "      <th>Total Admits (ICD-9)</th>\n",
       "      <th>30-day Readmits (ICD-9)</th>\n",
       "      <th>30-day Readmission Rate (ICD-9)</th>\n",
       "      <th>Total Admits (ICD-10)</th>\n",
       "      <th>30-day Readmits (ICD-10)</th>\n",
       "      <th>30-day Readmission Rate (ICD-10)</th>\n",
       "    </tr>\n",
       "  </thead>\n",
       "  <tbody>\n",
       "    <tr>\n",
       "      <th>17</th>\n",
       "      <td>2011</td>\n",
       "      <td>Overall</td>\n",
       "      <td>Overall</td>\n",
       "      <td>Alameda</td>\n",
       "      <td>75103.0</td>\n",
       "      <td>11377.0</td>\n",
       "      <td>15.10%</td>\n",
       "      <td>NaN</td>\n",
       "      <td>NaN</td>\n",
       "      <td>NaN</td>\n",
       "    </tr>\n",
       "    <tr>\n",
       "      <th>18</th>\n",
       "      <td>2011</td>\n",
       "      <td>Overall</td>\n",
       "      <td>Overall</td>\n",
       "      <td>Alpine</td>\n",
       "      <td>13.0</td>\n",
       "      <td>1.0</td>\n",
       "      <td>7.70%</td>\n",
       "      <td>NaN</td>\n",
       "      <td>NaN</td>\n",
       "      <td>NaN</td>\n",
       "    </tr>\n",
       "    <tr>\n",
       "      <th>19</th>\n",
       "      <td>2011</td>\n",
       "      <td>Overall</td>\n",
       "      <td>Overall</td>\n",
       "      <td>Amador</td>\n",
       "      <td>2657.0</td>\n",
       "      <td>345.0</td>\n",
       "      <td>13%</td>\n",
       "      <td>NaN</td>\n",
       "      <td>NaN</td>\n",
       "      <td>NaN</td>\n",
       "    </tr>\n",
       "    <tr>\n",
       "      <th>20</th>\n",
       "      <td>2011</td>\n",
       "      <td>Overall</td>\n",
       "      <td>Overall</td>\n",
       "      <td>Butte</td>\n",
       "      <td>20422.0</td>\n",
       "      <td>3198.0</td>\n",
       "      <td>15.70%</td>\n",
       "      <td>NaN</td>\n",
       "      <td>NaN</td>\n",
       "      <td>NaN</td>\n",
       "    </tr>\n",
       "    <tr>\n",
       "      <th>21</th>\n",
       "      <td>2011</td>\n",
       "      <td>Overall</td>\n",
       "      <td>Overall</td>\n",
       "      <td>Calaveras</td>\n",
       "      <td>3253.0</td>\n",
       "      <td>392.0</td>\n",
       "      <td>12.10%</td>\n",
       "      <td>NaN</td>\n",
       "      <td>NaN</td>\n",
       "      <td>NaN</td>\n",
       "    </tr>\n",
       "    <tr>\n",
       "      <th>...</th>\n",
       "      <td>...</td>\n",
       "      <td>...</td>\n",
       "      <td>...</td>\n",
       "      <td>...</td>\n",
       "      <td>...</td>\n",
       "      <td>...</td>\n",
       "      <td>...</td>\n",
       "      <td>...</td>\n",
       "      <td>...</td>\n",
       "      <td>...</td>\n",
       "    </tr>\n",
       "    <tr>\n",
       "      <th>976</th>\n",
       "      <td>2023</td>\n",
       "      <td>Overall</td>\n",
       "      <td>Overall</td>\n",
       "      <td>Tulare</td>\n",
       "      <td>NaN</td>\n",
       "      <td>NaN</td>\n",
       "      <td>NaN</td>\n",
       "      <td>17918</td>\n",
       "      <td>2483</td>\n",
       "      <td>13.86%</td>\n",
       "    </tr>\n",
       "    <tr>\n",
       "      <th>977</th>\n",
       "      <td>2023</td>\n",
       "      <td>Overall</td>\n",
       "      <td>Overall</td>\n",
       "      <td>Tuolumne</td>\n",
       "      <td>NaN</td>\n",
       "      <td>NaN</td>\n",
       "      <td>NaN</td>\n",
       "      <td>3251</td>\n",
       "      <td>485</td>\n",
       "      <td>14.92%</td>\n",
       "    </tr>\n",
       "    <tr>\n",
       "      <th>978</th>\n",
       "      <td>2023</td>\n",
       "      <td>Overall</td>\n",
       "      <td>Overall</td>\n",
       "      <td>Ventura</td>\n",
       "      <td>NaN</td>\n",
       "      <td>NaN</td>\n",
       "      <td>NaN</td>\n",
       "      <td>35807</td>\n",
       "      <td>5244</td>\n",
       "      <td>14.65%</td>\n",
       "    </tr>\n",
       "    <tr>\n",
       "      <th>979</th>\n",
       "      <td>2023</td>\n",
       "      <td>Overall</td>\n",
       "      <td>Overall</td>\n",
       "      <td>Yolo</td>\n",
       "      <td>NaN</td>\n",
       "      <td>NaN</td>\n",
       "      <td>NaN</td>\n",
       "      <td>7760</td>\n",
       "      <td>1195</td>\n",
       "      <td>15.40%</td>\n",
       "    </tr>\n",
       "    <tr>\n",
       "      <th>980</th>\n",
       "      <td>2023</td>\n",
       "      <td>Overall</td>\n",
       "      <td>Overall</td>\n",
       "      <td>Yuba</td>\n",
       "      <td>NaN</td>\n",
       "      <td>NaN</td>\n",
       "      <td>NaN</td>\n",
       "      <td>4671</td>\n",
       "      <td>740</td>\n",
       "      <td>15.84%</td>\n",
       "    </tr>\n",
       "  </tbody>\n",
       "</table>\n",
       "<p>755 rows × 10 columns</p>\n",
       "</div>"
      ],
      "text/plain": [
       "     Year   Strata Strata Name     County  Total Admits (ICD-9)  \\\n",
       "17   2011  Overall     Overall    Alameda               75103.0   \n",
       "18   2011  Overall     Overall     Alpine                  13.0   \n",
       "19   2011  Overall     Overall     Amador                2657.0   \n",
       "20   2011  Overall     Overall      Butte               20422.0   \n",
       "21   2011  Overall     Overall  Calaveras                3253.0   \n",
       "..    ...      ...         ...        ...                   ...   \n",
       "976  2023  Overall     Overall     Tulare                   NaN   \n",
       "977  2023  Overall     Overall   Tuolumne                   NaN   \n",
       "978  2023  Overall     Overall    Ventura                   NaN   \n",
       "979  2023  Overall     Overall       Yolo                   NaN   \n",
       "980  2023  Overall     Overall       Yuba                   NaN   \n",
       "\n",
       "     30-day Readmits (ICD-9)  30-day Readmission Rate (ICD-9)  \\\n",
       "17                    11377.0                          15.10%   \n",
       "18                        1.0                           7.70%   \n",
       "19                      345.0                             13%   \n",
       "20                     3198.0                          15.70%   \n",
       "21                      392.0                          12.10%   \n",
       "..                        ...                             ...   \n",
       "976                       NaN                             NaN   \n",
       "977                       NaN                             NaN   \n",
       "978                       NaN                             NaN   \n",
       "979                       NaN                             NaN   \n",
       "980                       NaN                             NaN   \n",
       "\n",
       "    Total Admits (ICD-10) 30-day Readmits (ICD-10)   \\\n",
       "17                    NaN                       NaN   \n",
       "18                    NaN                       NaN   \n",
       "19                    NaN                       NaN   \n",
       "20                    NaN                       NaN   \n",
       "21                    NaN                       NaN   \n",
       "..                    ...                       ...   \n",
       "976                 17918                      2483   \n",
       "977                  3251                       485   \n",
       "978                 35807                      5244   \n",
       "979                  7760                      1195   \n",
       "980                  4671                       740   \n",
       "\n",
       "    30-day Readmission Rate (ICD-10)  \n",
       "17                               NaN  \n",
       "18                               NaN  \n",
       "19                               NaN  \n",
       "20                               NaN  \n",
       "21                               NaN  \n",
       "..                               ...  \n",
       "976                          13.86%   \n",
       "977                          14.92%   \n",
       "978                          14.65%   \n",
       "979                          15.40%   \n",
       "980                          15.84%   \n",
       "\n",
       "[755 rows x 10 columns]"
      ]
     },
     "execution_count": 4,
     "metadata": {},
     "output_type": "execute_result"
    }
   ],
   "source": [
    "primary = primary[(primary[\"Strata\"] == \"Overall\") & (primary[\"County\"] != \"State\")]\n",
    "primary"
   ]
  },
  {
   "cell_type": "code",
   "execution_count": 5,
   "id": "3e7ccbed-f77a-42bb-b49d-8dd6a7b1126c",
   "metadata": {},
   "outputs": [
    {
     "data": {
      "text/html": [
       "<div>\n",
       "<style scoped>\n",
       "    .dataframe tbody tr th:only-of-type {\n",
       "        vertical-align: middle;\n",
       "    }\n",
       "\n",
       "    .dataframe tbody tr th {\n",
       "        vertical-align: top;\n",
       "    }\n",
       "\n",
       "    .dataframe thead th {\n",
       "        text-align: right;\n",
       "    }\n",
       "</style>\n",
       "<table border=\"1\" class=\"dataframe\">\n",
       "  <thead>\n",
       "    <tr style=\"text-align: right;\">\n",
       "      <th></th>\n",
       "      <th>Year</th>\n",
       "      <th>County</th>\n",
       "      <th>Total_Admits</th>\n",
       "      <th>30_day_Readmits</th>\n",
       "      <th>30_day_Readmission_Rate</th>\n",
       "    </tr>\n",
       "  </thead>\n",
       "  <tbody>\n",
       "    <tr>\n",
       "      <th>17</th>\n",
       "      <td>2011</td>\n",
       "      <td>Alameda</td>\n",
       "      <td>75103.0</td>\n",
       "      <td>11377.0</td>\n",
       "      <td>15.10%</td>\n",
       "    </tr>\n",
       "    <tr>\n",
       "      <th>18</th>\n",
       "      <td>2011</td>\n",
       "      <td>Alpine</td>\n",
       "      <td>13.0</td>\n",
       "      <td>1.0</td>\n",
       "      <td>7.70%</td>\n",
       "    </tr>\n",
       "    <tr>\n",
       "      <th>19</th>\n",
       "      <td>2011</td>\n",
       "      <td>Amador</td>\n",
       "      <td>2657.0</td>\n",
       "      <td>345.0</td>\n",
       "      <td>13%</td>\n",
       "    </tr>\n",
       "    <tr>\n",
       "      <th>20</th>\n",
       "      <td>2011</td>\n",
       "      <td>Butte</td>\n",
       "      <td>20422.0</td>\n",
       "      <td>3198.0</td>\n",
       "      <td>15.70%</td>\n",
       "    </tr>\n",
       "    <tr>\n",
       "      <th>21</th>\n",
       "      <td>2011</td>\n",
       "      <td>Calaveras</td>\n",
       "      <td>3253.0</td>\n",
       "      <td>392.0</td>\n",
       "      <td>12.10%</td>\n",
       "    </tr>\n",
       "    <tr>\n",
       "      <th>...</th>\n",
       "      <td>...</td>\n",
       "      <td>...</td>\n",
       "      <td>...</td>\n",
       "      <td>...</td>\n",
       "      <td>...</td>\n",
       "    </tr>\n",
       "    <tr>\n",
       "      <th>370</th>\n",
       "      <td>2015</td>\n",
       "      <td>Tulare</td>\n",
       "      <td>16424.0</td>\n",
       "      <td>2243.0</td>\n",
       "      <td>13.66%</td>\n",
       "    </tr>\n",
       "    <tr>\n",
       "      <th>371</th>\n",
       "      <td>2015</td>\n",
       "      <td>Tuolumne</td>\n",
       "      <td>3144.0</td>\n",
       "      <td>410.0</td>\n",
       "      <td>13.04%</td>\n",
       "    </tr>\n",
       "    <tr>\n",
       "      <th>372</th>\n",
       "      <td>2015</td>\n",
       "      <td>Ventura</td>\n",
       "      <td>30175.0</td>\n",
       "      <td>3862.0</td>\n",
       "      <td>12.80%</td>\n",
       "    </tr>\n",
       "    <tr>\n",
       "      <th>373</th>\n",
       "      <td>2015</td>\n",
       "      <td>Yolo</td>\n",
       "      <td>5852.0</td>\n",
       "      <td>726.0</td>\n",
       "      <td>12.41%</td>\n",
       "    </tr>\n",
       "    <tr>\n",
       "      <th>374</th>\n",
       "      <td>2015</td>\n",
       "      <td>Yuba</td>\n",
       "      <td>3521.0</td>\n",
       "      <td>527.0</td>\n",
       "      <td>14.97%</td>\n",
       "    </tr>\n",
       "  </tbody>\n",
       "</table>\n",
       "<p>290 rows × 5 columns</p>\n",
       "</div>"
      ],
      "text/plain": [
       "     Year     County  Total_Admits  30_day_Readmits 30_day_Readmission_Rate\n",
       "17   2011    Alameda       75103.0          11377.0                  15.10%\n",
       "18   2011     Alpine          13.0              1.0                   7.70%\n",
       "19   2011     Amador        2657.0            345.0                     13%\n",
       "20   2011      Butte       20422.0           3198.0                  15.70%\n",
       "21   2011  Calaveras        3253.0            392.0                  12.10%\n",
       "..    ...        ...           ...              ...                     ...\n",
       "370  2015     Tulare       16424.0           2243.0                  13.66%\n",
       "371  2015   Tuolumne        3144.0            410.0                  13.04%\n",
       "372  2015    Ventura       30175.0           3862.0                  12.80%\n",
       "373  2015       Yolo        5852.0            726.0                  12.41%\n",
       "374  2015       Yuba        3521.0            527.0                  14.97%\n",
       "\n",
       "[290 rows x 5 columns]"
      ]
     },
     "execution_count": 5,
     "metadata": {},
     "output_type": "execute_result"
    }
   ],
   "source": [
    "columns_to_drop = [\n",
    "    \"Strata\",\n",
    "    \"Strata Name\",\n",
    "    \"Total Admits (ICD-10)\",\n",
    "    \"30-day Readmits (ICD-10) \",\n",
    "    \"30-day Readmission Rate (ICD-10)\",\n",
    "]\n",
    "primary_pre2016 = primary[primary[\"Year\"] < 2016]\n",
    "primary_pre2016 = primary_pre2016.drop(columns=columns_to_drop)\n",
    "new_column_names = {\n",
    "    \"Total Admits (ICD-9)\": \"Total_Admits\",\n",
    "    \"30-day Readmits (ICD-9) \": \"30_day_Readmits\",\n",
    "    \"30-day Readmission Rate (ICD-9)\": \"30_day_Readmission_Rate\",\n",
    "}\n",
    "primary_pre2016 = primary_pre2016.rename(columns=new_column_names)\n",
    "\n",
    "primary_pre2016"
   ]
  },
  {
   "cell_type": "code",
   "execution_count": 6,
   "id": "340e6c57-e98d-4570-bc8e-6cf24c929070",
   "metadata": {},
   "outputs": [
    {
     "data": {
      "text/html": [
       "<div>\n",
       "<style scoped>\n",
       "    .dataframe tbody tr th:only-of-type {\n",
       "        vertical-align: middle;\n",
       "    }\n",
       "\n",
       "    .dataframe tbody tr th {\n",
       "        vertical-align: top;\n",
       "    }\n",
       "\n",
       "    .dataframe thead th {\n",
       "        text-align: right;\n",
       "    }\n",
       "</style>\n",
       "<table border=\"1\" class=\"dataframe\">\n",
       "  <thead>\n",
       "    <tr style=\"text-align: right;\">\n",
       "      <th></th>\n",
       "      <th>Year</th>\n",
       "      <th>County</th>\n",
       "      <th>Total_Admits</th>\n",
       "      <th>30_day_Readmits</th>\n",
       "      <th>30_day_Readmission_Rate</th>\n",
       "    </tr>\n",
       "  </thead>\n",
       "  <tbody>\n",
       "    <tr>\n",
       "      <th>392</th>\n",
       "      <td>2016</td>\n",
       "      <td>Alameda</td>\n",
       "      <td>65203</td>\n",
       "      <td>9759</td>\n",
       "      <td>14.97%</td>\n",
       "    </tr>\n",
       "    <tr>\n",
       "      <th>393</th>\n",
       "      <td>2016</td>\n",
       "      <td>Alpine</td>\n",
       "      <td>21</td>\n",
       "      <td>1</td>\n",
       "      <td>4.76%</td>\n",
       "    </tr>\n",
       "    <tr>\n",
       "      <th>394</th>\n",
       "      <td>2016</td>\n",
       "      <td>Amador</td>\n",
       "      <td>2814</td>\n",
       "      <td>390</td>\n",
       "      <td>13.86%</td>\n",
       "    </tr>\n",
       "    <tr>\n",
       "      <th>395</th>\n",
       "      <td>2016</td>\n",
       "      <td>Butte</td>\n",
       "      <td>22675</td>\n",
       "      <td>4041</td>\n",
       "      <td>17.82%</td>\n",
       "    </tr>\n",
       "    <tr>\n",
       "      <th>396</th>\n",
       "      <td>2016</td>\n",
       "      <td>Calaveras</td>\n",
       "      <td>2868</td>\n",
       "      <td>400</td>\n",
       "      <td>13.95%</td>\n",
       "    </tr>\n",
       "    <tr>\n",
       "      <th>...</th>\n",
       "      <td>...</td>\n",
       "      <td>...</td>\n",
       "      <td>...</td>\n",
       "      <td>...</td>\n",
       "      <td>...</td>\n",
       "    </tr>\n",
       "    <tr>\n",
       "      <th>976</th>\n",
       "      <td>2023</td>\n",
       "      <td>Tulare</td>\n",
       "      <td>17918</td>\n",
       "      <td>2483</td>\n",
       "      <td>13.86%</td>\n",
       "    </tr>\n",
       "    <tr>\n",
       "      <th>977</th>\n",
       "      <td>2023</td>\n",
       "      <td>Tuolumne</td>\n",
       "      <td>3251</td>\n",
       "      <td>485</td>\n",
       "      <td>14.92%</td>\n",
       "    </tr>\n",
       "    <tr>\n",
       "      <th>978</th>\n",
       "      <td>2023</td>\n",
       "      <td>Ventura</td>\n",
       "      <td>35807</td>\n",
       "      <td>5244</td>\n",
       "      <td>14.65%</td>\n",
       "    </tr>\n",
       "    <tr>\n",
       "      <th>979</th>\n",
       "      <td>2023</td>\n",
       "      <td>Yolo</td>\n",
       "      <td>7760</td>\n",
       "      <td>1195</td>\n",
       "      <td>15.40%</td>\n",
       "    </tr>\n",
       "    <tr>\n",
       "      <th>980</th>\n",
       "      <td>2023</td>\n",
       "      <td>Yuba</td>\n",
       "      <td>4671</td>\n",
       "      <td>740</td>\n",
       "      <td>15.84%</td>\n",
       "    </tr>\n",
       "  </tbody>\n",
       "</table>\n",
       "<p>465 rows × 5 columns</p>\n",
       "</div>"
      ],
      "text/plain": [
       "     Year     County Total_Admits 30_day_Readmits 30_day_Readmission_Rate\n",
       "392  2016    Alameda        65203            9759                  14.97%\n",
       "393  2016     Alpine           21               1                   4.76%\n",
       "394  2016     Amador         2814             390                  13.86%\n",
       "395  2016      Butte        22675            4041                  17.82%\n",
       "396  2016  Calaveras         2868             400                  13.95%\n",
       "..    ...        ...          ...             ...                     ...\n",
       "976  2023     Tulare        17918            2483                 13.86% \n",
       "977  2023   Tuolumne         3251             485                 14.92% \n",
       "978  2023    Ventura        35807            5244                 14.65% \n",
       "979  2023       Yolo         7760            1195                 15.40% \n",
       "980  2023       Yuba         4671             740                 15.84% \n",
       "\n",
       "[465 rows x 5 columns]"
      ]
     },
     "execution_count": 6,
     "metadata": {},
     "output_type": "execute_result"
    }
   ],
   "source": [
    "\n",
    "columns_to_drop_2016 = [\n",
    "    \"Strata\",\n",
    "    \"Strata Name\",\n",
    "    \"Total Admits (ICD-9)\",\n",
    "    \"30-day Readmits (ICD-9) \",\n",
    "    \"30-day Readmission Rate (ICD-9)\",\n",
    "]\n",
    "primary_after2016 = primary[primary[\"Year\"] >= 2016]\n",
    "primary_after2016 = primary_after2016.drop(columns=columns_to_drop_2016)\n",
    "new_column_names_2016 = {\n",
    "    \"Total Admits (ICD-10)\": \"Total_Admits\",\n",
    "    \"30-day Readmits (ICD-10) \": \"30_day_Readmits\",\n",
    "    \"30-day Readmission Rate (ICD-10)\": \"30_day_Readmission_Rate\",\n",
    "}\n",
    "primary_after2016 = primary_after2016.rename(columns=new_column_names_2016)\n",
    "primary_after2016"
   ]
  },
  {
   "cell_type": "code",
   "execution_count": 7,
   "id": "ec900eb7-a219-4af6-9146-e0e873e06cbf",
   "metadata": {},
   "outputs": [
    {
     "data": {
      "text/html": [
       "<div>\n",
       "<style scoped>\n",
       "    .dataframe tbody tr th:only-of-type {\n",
       "        vertical-align: middle;\n",
       "    }\n",
       "\n",
       "    .dataframe tbody tr th {\n",
       "        vertical-align: top;\n",
       "    }\n",
       "\n",
       "    .dataframe thead th {\n",
       "        text-align: right;\n",
       "    }\n",
       "</style>\n",
       "<table border=\"1\" class=\"dataframe\">\n",
       "  <thead>\n",
       "    <tr style=\"text-align: right;\">\n",
       "      <th></th>\n",
       "      <th>Year</th>\n",
       "      <th>County</th>\n",
       "      <th>Total_Admits</th>\n",
       "      <th>30_day_Readmits</th>\n",
       "      <th>30_day_Readmission_Rate</th>\n",
       "    </tr>\n",
       "  </thead>\n",
       "  <tbody>\n",
       "    <tr>\n",
       "      <th>290</th>\n",
       "      <td>2016</td>\n",
       "      <td>Alameda</td>\n",
       "      <td>65203</td>\n",
       "      <td>9759</td>\n",
       "      <td>14.97%</td>\n",
       "    </tr>\n",
       "    <tr>\n",
       "      <th>291</th>\n",
       "      <td>2016</td>\n",
       "      <td>Alpine</td>\n",
       "      <td>21</td>\n",
       "      <td>1</td>\n",
       "      <td>4.76%</td>\n",
       "    </tr>\n",
       "    <tr>\n",
       "      <th>292</th>\n",
       "      <td>2016</td>\n",
       "      <td>Amador</td>\n",
       "      <td>2814</td>\n",
       "      <td>390</td>\n",
       "      <td>13.86%</td>\n",
       "    </tr>\n",
       "    <tr>\n",
       "      <th>293</th>\n",
       "      <td>2016</td>\n",
       "      <td>Butte</td>\n",
       "      <td>22675</td>\n",
       "      <td>4041</td>\n",
       "      <td>17.82%</td>\n",
       "    </tr>\n",
       "    <tr>\n",
       "      <th>294</th>\n",
       "      <td>2016</td>\n",
       "      <td>Calaveras</td>\n",
       "      <td>2868</td>\n",
       "      <td>400</td>\n",
       "      <td>13.95%</td>\n",
       "    </tr>\n",
       "    <tr>\n",
       "      <th>...</th>\n",
       "      <td>...</td>\n",
       "      <td>...</td>\n",
       "      <td>...</td>\n",
       "      <td>...</td>\n",
       "      <td>...</td>\n",
       "    </tr>\n",
       "    <tr>\n",
       "      <th>576</th>\n",
       "      <td>2020</td>\n",
       "      <td>Tulare</td>\n",
       "      <td>18786</td>\n",
       "      <td>2653</td>\n",
       "      <td>14.12%</td>\n",
       "    </tr>\n",
       "    <tr>\n",
       "      <th>577</th>\n",
       "      <td>2020</td>\n",
       "      <td>Tuolumne</td>\n",
       "      <td>3304</td>\n",
       "      <td>474</td>\n",
       "      <td>14.35%</td>\n",
       "    </tr>\n",
       "    <tr>\n",
       "      <th>578</th>\n",
       "      <td>2020</td>\n",
       "      <td>Ventura</td>\n",
       "      <td>34820</td>\n",
       "      <td>4945</td>\n",
       "      <td>14.20%</td>\n",
       "    </tr>\n",
       "    <tr>\n",
       "      <th>579</th>\n",
       "      <td>2020</td>\n",
       "      <td>Yolo</td>\n",
       "      <td>6945</td>\n",
       "      <td>976</td>\n",
       "      <td>14.05%</td>\n",
       "    </tr>\n",
       "    <tr>\n",
       "      <th>580</th>\n",
       "      <td>2020</td>\n",
       "      <td>Yuba</td>\n",
       "      <td>4513</td>\n",
       "      <td>712</td>\n",
       "      <td>15.78%</td>\n",
       "    </tr>\n",
       "  </tbody>\n",
       "</table>\n",
       "<p>116 rows × 5 columns</p>\n",
       "</div>"
      ],
      "text/plain": [
       "     Year     County Total_Admits 30_day_Readmits 30_day_Readmission_Rate\n",
       "290  2016    Alameda        65203            9759                  14.97%\n",
       "291  2016     Alpine           21               1                   4.76%\n",
       "292  2016     Amador         2814             390                  13.86%\n",
       "293  2016      Butte        22675            4041                  17.82%\n",
       "294  2016  Calaveras         2868             400                  13.95%\n",
       "..    ...        ...          ...             ...                     ...\n",
       "576  2020     Tulare        18786            2653                  14.12%\n",
       "577  2020   Tuolumne         3304             474                  14.35%\n",
       "578  2020    Ventura        34820            4945                  14.20%\n",
       "579  2020       Yolo         6945             976                  14.05%\n",
       "580  2020       Yuba         4513             712                  15.78%\n",
       "\n",
       "[116 rows x 5 columns]"
      ]
     },
     "execution_count": 7,
     "metadata": {},
     "output_type": "execute_result"
    }
   ],
   "source": [
    "cleaned_primary = pd.concat([primary_pre2016, primary_after2016], ignore_index=True)\n",
    "cleaned_primary = cleaned_primary[cleaned_primary[\"Year\"].isin([2016, 2020])]\n",
    "cleaned_primary.drop(cleaned_primary[cleaned_primary['County'] == 'Unknown County'].index, inplace=True)\n",
    "cleaned_primary"
   ]
  },
  {
   "cell_type": "code",
   "execution_count": 8,
   "id": "c22c0072-a9c8-4bdf-96c2-a3886162e46a",
   "metadata": {},
   "outputs": [],
   "source": [
    "cleaned_primary['30_day_Readmission_Rate'] = cleaned_primary['30_day_Readmission_Rate'].str.rstrip('%').astype(float)"
   ]
  },
  {
   "cell_type": "code",
   "execution_count": 9,
   "id": "1fd80879-479c-4fc6-b42e-680ecc3593cb",
   "metadata": {},
   "outputs": [],
   "source": [
    "cleaned_primary['Total_Admits'] = cleaned_primary['Total_Admits'].astype('int64')"
   ]
  },
  {
   "cell_type": "code",
   "execution_count": 10,
   "id": "c067350a-425f-4389-b75c-295de0a5696a",
   "metadata": {},
   "outputs": [],
   "source": [
    "cleaned_primary['30_day_Readmits'] = cleaned_primary['30_day_Readmits'].astype('int64')"
   ]
  },
  {
   "cell_type": "code",
   "execution_count": 15,
   "id": "9430d03b-1173-44b4-95e2-6adea4f50a15",
   "metadata": {},
   "outputs": [],
   "source": [
    "cleaned_primary.to_csv(\"../data/cleaned_data/primary.csv\", index=False)"
   ]
  },
  {
   "cell_type": "code",
   "execution_count": 16,
   "id": "ebd8a8ac-17f4-48a7-9dfc-7ff905b50c73",
   "metadata": {},
   "outputs": [
    {
     "data": {
      "text/html": [
       "<div>\n",
       "<style scoped>\n",
       "    .dataframe tbody tr th:only-of-type {\n",
       "        vertical-align: middle;\n",
       "    }\n",
       "\n",
       "    .dataframe tbody tr th {\n",
       "        vertical-align: top;\n",
       "    }\n",
       "\n",
       "    .dataframe thead th {\n",
       "        text-align: right;\n",
       "    }\n",
       "</style>\n",
       "<table border=\"1\" class=\"dataframe\">\n",
       "  <thead>\n",
       "    <tr style=\"text-align: right;\">\n",
       "      <th></th>\n",
       "      <th>Year</th>\n",
       "      <th>County</th>\n",
       "      <th>DEM</th>\n",
       "      <th>DEM(%)</th>\n",
       "      <th>REO</th>\n",
       "      <th>REP(%)</th>\n",
       "      <th>Win</th>\n",
       "    </tr>\n",
       "  </thead>\n",
       "  <tbody>\n",
       "    <tr>\n",
       "      <th>0</th>\n",
       "      <td>2016</td>\n",
       "      <td>Alameda</td>\n",
       "      <td>514842</td>\n",
       "      <td>78.7</td>\n",
       "      <td>95922</td>\n",
       "      <td>14.7</td>\n",
       "      <td>Blue</td>\n",
       "    </tr>\n",
       "    <tr>\n",
       "      <th>1</th>\n",
       "      <td>2016</td>\n",
       "      <td>Alpine</td>\n",
       "      <td>334</td>\n",
       "      <td>55.5</td>\n",
       "      <td>217</td>\n",
       "      <td>36.0</td>\n",
       "      <td>Blue</td>\n",
       "    </tr>\n",
       "    <tr>\n",
       "      <th>2</th>\n",
       "      <td>2016</td>\n",
       "      <td>Amador</td>\n",
       "      <td>6004</td>\n",
       "      <td>33.9</td>\n",
       "      <td>10485</td>\n",
       "      <td>59.1</td>\n",
       "      <td>Red</td>\n",
       "    </tr>\n",
       "    <tr>\n",
       "      <th>3</th>\n",
       "      <td>2016</td>\n",
       "      <td>Butte</td>\n",
       "      <td>41567</td>\n",
       "      <td>43.5</td>\n",
       "      <td>45144</td>\n",
       "      <td>47.2</td>\n",
       "      <td>Red</td>\n",
       "    </tr>\n",
       "    <tr>\n",
       "      <th>4</th>\n",
       "      <td>2016</td>\n",
       "      <td>Calaveras</td>\n",
       "      <td>7944</td>\n",
       "      <td>34.3</td>\n",
       "      <td>13511</td>\n",
       "      <td>58.4</td>\n",
       "      <td>Red</td>\n",
       "    </tr>\n",
       "    <tr>\n",
       "      <th>...</th>\n",
       "      <td>...</td>\n",
       "      <td>...</td>\n",
       "      <td>...</td>\n",
       "      <td>...</td>\n",
       "      <td>...</td>\n",
       "      <td>...</td>\n",
       "      <td>...</td>\n",
       "    </tr>\n",
       "    <tr>\n",
       "      <th>112</th>\n",
       "      <td>2020</td>\n",
       "      <td>Tulare</td>\n",
       "      <td>66105</td>\n",
       "      <td>450.0</td>\n",
       "      <td>77579</td>\n",
       "      <td>52.8</td>\n",
       "      <td>Blue</td>\n",
       "    </tr>\n",
       "    <tr>\n",
       "      <th>113</th>\n",
       "      <td>2020</td>\n",
       "      <td>Tuolumne</td>\n",
       "      <td>11978</td>\n",
       "      <td>39.4</td>\n",
       "      <td>17689</td>\n",
       "      <td>58.2</td>\n",
       "      <td>Red</td>\n",
       "    </tr>\n",
       "    <tr>\n",
       "      <th>114</th>\n",
       "      <td>2020</td>\n",
       "      <td>Ventura</td>\n",
       "      <td>251388</td>\n",
       "      <td>59.5</td>\n",
       "      <td>162207</td>\n",
       "      <td>38.4</td>\n",
       "      <td>Blue</td>\n",
       "    </tr>\n",
       "    <tr>\n",
       "      <th>115</th>\n",
       "      <td>2020</td>\n",
       "      <td>Yolo</td>\n",
       "      <td>67598</td>\n",
       "      <td>69.5</td>\n",
       "      <td>27292</td>\n",
       "      <td>28.1</td>\n",
       "      <td>Blue</td>\n",
       "    </tr>\n",
       "    <tr>\n",
       "      <th>116</th>\n",
       "      <td>2020</td>\n",
       "      <td>Yuba</td>\n",
       "      <td>11230</td>\n",
       "      <td>37.7</td>\n",
       "      <td>17676</td>\n",
       "      <td>59.3</td>\n",
       "      <td>Red</td>\n",
       "    </tr>\n",
       "  </tbody>\n",
       "</table>\n",
       "<p>116 rows × 7 columns</p>\n",
       "</div>"
      ],
      "text/plain": [
       "     Year     County     DEM  DEM(%)     REO  REP(%)   Win\n",
       "0    2016    Alameda  514842    78.7   95922    14.7  Blue\n",
       "1    2016     Alpine     334    55.5     217    36.0  Blue\n",
       "2    2016     Amador    6004    33.9   10485    59.1   Red\n",
       "3    2016      Butte   41567    43.5   45144    47.2   Red\n",
       "4    2016  Calaveras    7944    34.3   13511    58.4   Red\n",
       "..    ...        ...     ...     ...     ...     ...   ...\n",
       "112  2020     Tulare   66105   450.0   77579    52.8  Blue\n",
       "113  2020   Tuolumne   11978    39.4   17689    58.2   Red\n",
       "114  2020    Ventura  251388    59.5  162207    38.4  Blue\n",
       "115  2020       Yolo   67598    69.5   27292    28.1  Blue\n",
       "116  2020       Yuba   11230    37.7   17676    59.3   Red\n",
       "\n",
       "[116 rows x 7 columns]"
      ]
     },
     "execution_count": 16,
     "metadata": {},
     "output_type": "execute_result"
    }
   ],
   "source": [
    "presidential = pd.read_csv('../data/presidential.csv')\n",
    "presidential = presidential[presidential[\"County\"] != \"State Totals\"]\n",
    "presidential"
   ]
  },
  {
   "cell_type": "code",
   "execution_count": 17,
   "id": "9afa2cc7-4b24-44d4-9c62-0813014c8a0d",
   "metadata": {},
   "outputs": [
    {
     "data": {
      "text/html": [
       "<div>\n",
       "<style scoped>\n",
       "    .dataframe tbody tr th:only-of-type {\n",
       "        vertical-align: middle;\n",
       "    }\n",
       "\n",
       "    .dataframe tbody tr th {\n",
       "        vertical-align: top;\n",
       "    }\n",
       "\n",
       "    .dataframe thead th {\n",
       "        text-align: right;\n",
       "    }\n",
       "</style>\n",
       "<table border=\"1\" class=\"dataframe\">\n",
       "  <thead>\n",
       "    <tr style=\"text-align: right;\">\n",
       "      <th></th>\n",
       "      <th>Year</th>\n",
       "      <th>County</th>\n",
       "      <th>DEM</th>\n",
       "      <th>DEM(%)</th>\n",
       "      <th>REP</th>\n",
       "      <th>REP(%)</th>\n",
       "      <th>Win</th>\n",
       "    </tr>\n",
       "  </thead>\n",
       "  <tbody>\n",
       "    <tr>\n",
       "      <th>0</th>\n",
       "      <td>2016</td>\n",
       "      <td>Alameda</td>\n",
       "      <td>514842</td>\n",
       "      <td>78.7</td>\n",
       "      <td>95922</td>\n",
       "      <td>14.7</td>\n",
       "      <td>Blue</td>\n",
       "    </tr>\n",
       "    <tr>\n",
       "      <th>1</th>\n",
       "      <td>2016</td>\n",
       "      <td>Alpine</td>\n",
       "      <td>334</td>\n",
       "      <td>55.5</td>\n",
       "      <td>217</td>\n",
       "      <td>36.0</td>\n",
       "      <td>Blue</td>\n",
       "    </tr>\n",
       "    <tr>\n",
       "      <th>2</th>\n",
       "      <td>2016</td>\n",
       "      <td>Amador</td>\n",
       "      <td>6004</td>\n",
       "      <td>33.9</td>\n",
       "      <td>10485</td>\n",
       "      <td>59.1</td>\n",
       "      <td>Red</td>\n",
       "    </tr>\n",
       "    <tr>\n",
       "      <th>3</th>\n",
       "      <td>2016</td>\n",
       "      <td>Butte</td>\n",
       "      <td>41567</td>\n",
       "      <td>43.5</td>\n",
       "      <td>45144</td>\n",
       "      <td>47.2</td>\n",
       "      <td>Red</td>\n",
       "    </tr>\n",
       "    <tr>\n",
       "      <th>4</th>\n",
       "      <td>2016</td>\n",
       "      <td>Calaveras</td>\n",
       "      <td>7944</td>\n",
       "      <td>34.3</td>\n",
       "      <td>13511</td>\n",
       "      <td>58.4</td>\n",
       "      <td>Red</td>\n",
       "    </tr>\n",
       "    <tr>\n",
       "      <th>...</th>\n",
       "      <td>...</td>\n",
       "      <td>...</td>\n",
       "      <td>...</td>\n",
       "      <td>...</td>\n",
       "      <td>...</td>\n",
       "      <td>...</td>\n",
       "      <td>...</td>\n",
       "    </tr>\n",
       "    <tr>\n",
       "      <th>112</th>\n",
       "      <td>2020</td>\n",
       "      <td>Tulare</td>\n",
       "      <td>66105</td>\n",
       "      <td>450.0</td>\n",
       "      <td>77579</td>\n",
       "      <td>52.8</td>\n",
       "      <td>Blue</td>\n",
       "    </tr>\n",
       "    <tr>\n",
       "      <th>113</th>\n",
       "      <td>2020</td>\n",
       "      <td>Tuolumne</td>\n",
       "      <td>11978</td>\n",
       "      <td>39.4</td>\n",
       "      <td>17689</td>\n",
       "      <td>58.2</td>\n",
       "      <td>Red</td>\n",
       "    </tr>\n",
       "    <tr>\n",
       "      <th>114</th>\n",
       "      <td>2020</td>\n",
       "      <td>Ventura</td>\n",
       "      <td>251388</td>\n",
       "      <td>59.5</td>\n",
       "      <td>162207</td>\n",
       "      <td>38.4</td>\n",
       "      <td>Blue</td>\n",
       "    </tr>\n",
       "    <tr>\n",
       "      <th>115</th>\n",
       "      <td>2020</td>\n",
       "      <td>Yolo</td>\n",
       "      <td>67598</td>\n",
       "      <td>69.5</td>\n",
       "      <td>27292</td>\n",
       "      <td>28.1</td>\n",
       "      <td>Blue</td>\n",
       "    </tr>\n",
       "    <tr>\n",
       "      <th>116</th>\n",
       "      <td>2020</td>\n",
       "      <td>Yuba</td>\n",
       "      <td>11230</td>\n",
       "      <td>37.7</td>\n",
       "      <td>17676</td>\n",
       "      <td>59.3</td>\n",
       "      <td>Red</td>\n",
       "    </tr>\n",
       "  </tbody>\n",
       "</table>\n",
       "<p>116 rows × 7 columns</p>\n",
       "</div>"
      ],
      "text/plain": [
       "     Year     County     DEM  DEM(%)     REP  REP(%)   Win\n",
       "0    2016    Alameda  514842    78.7   95922    14.7  Blue\n",
       "1    2016     Alpine     334    55.5     217    36.0  Blue\n",
       "2    2016     Amador    6004    33.9   10485    59.1   Red\n",
       "3    2016      Butte   41567    43.5   45144    47.2   Red\n",
       "4    2016  Calaveras    7944    34.3   13511    58.4   Red\n",
       "..    ...        ...     ...     ...     ...     ...   ...\n",
       "112  2020     Tulare   66105   450.0   77579    52.8  Blue\n",
       "113  2020   Tuolumne   11978    39.4   17689    58.2   Red\n",
       "114  2020    Ventura  251388    59.5  162207    38.4  Blue\n",
       "115  2020       Yolo   67598    69.5   27292    28.1  Blue\n",
       "116  2020       Yuba   11230    37.7   17676    59.3   Red\n",
       "\n",
       "[116 rows x 7 columns]"
      ]
     },
     "execution_count": 17,
     "metadata": {},
     "output_type": "execute_result"
    }
   ],
   "source": [
    "# Correct errors in original data\n",
    "presidential = presidential.rename(columns={\"REO\": \"REP\"})\n",
    "presidential"
   ]
  },
  {
   "cell_type": "code",
   "execution_count": 18,
   "id": "520e5b1d-bdda-4ab4-be4a-83835be1161c",
   "metadata": {},
   "outputs": [
    {
     "data": {
      "text/plain": [
       "Year           2020\n",
       "County    Calaveras\n",
       "DEM           10046\n",
       "DEM(%)         37.0\n",
       "REP           16518\n",
       "REP(%)         60.8\n",
       "Win             Red\n",
       "Name: 63, dtype: object"
      ]
     },
     "execution_count": 18,
     "metadata": {},
     "output_type": "execute_result"
    }
   ],
   "source": [
    "presidential.loc[63,'DEM(%)'] = 37.0\n",
    "presidential.loc[63, 'Win'] = 'Red'\n",
    "presidential.loc[63]"
   ]
  },
  {
   "cell_type": "code",
   "execution_count": 19,
   "id": "ca2b5c57-45c2-4cab-b8f1-0e7fbebc13cc",
   "metadata": {},
   "outputs": [
    {
     "data": {
      "text/plain": [
       "Year          2020\n",
       "County    Humboldt\n",
       "DEM          44768\n",
       "DEM(%)        65.0\n",
       "REP          21770\n",
       "REP(%)        31.6\n",
       "Win           Blue\n",
       "Name: 70, dtype: object"
      ]
     },
     "execution_count": 19,
     "metadata": {},
     "output_type": "execute_result"
    }
   ],
   "source": [
    "presidential.loc[70,'DEM(%)'] = 65.0\n",
    "presidential.loc[70]"
   ]
  },
  {
   "cell_type": "code",
   "execution_count": 20,
   "id": "d26922b4-88c5-44c9-a3c3-2c9ab569da29",
   "metadata": {},
   "outputs": [
    {
     "data": {
      "text/plain": [
       "Year             2020\n",
       "County    Los Angeles\n",
       "DEM           3028885\n",
       "DEM(%)           71.0\n",
       "REP           1145530\n",
       "REP(%)           26.9\n",
       "Win              Blue\n",
       "Name: 77, dtype: object"
      ]
     },
     "execution_count": 20,
     "metadata": {},
     "output_type": "execute_result"
    }
   ],
   "source": [
    "presidential.loc[77,'DEM(%)'] = 71.0\n",
    "presidential.loc[77]"
   ]
  },
  {
   "cell_type": "code",
   "execution_count": 21,
   "id": "41dcf1d0-6262-475f-8c68-a7440c0de519",
   "metadata": {},
   "outputs": [
    {
     "data": {
      "text/plain": [
       "Year       2020\n",
       "County     Napa\n",
       "DEM       49817\n",
       "DEM(%)     69.0\n",
       "REP       20676\n",
       "REP(%)     28.7\n",
       "Win        Blue\n",
       "Name: 86, dtype: object"
      ]
     },
     "execution_count": 21,
     "metadata": {},
     "output_type": "execute_result"
    }
   ],
   "source": [
    "presidential.loc[86,'DEM(%)'] = 69.0\n",
    "presidential.loc[86]"
   ]
  },
  {
   "cell_type": "code",
   "execution_count": 22,
   "id": "bb4e1c4b-466f-478a-a905-f4f4643322b1",
   "metadata": {},
   "outputs": [
    {
     "data": {
      "text/plain": [
       "Year           2020\n",
       "County    Riverside\n",
       "DEM          528340\n",
       "DEM(%)         53.0\n",
       "REP          449144\n",
       "REP(%)         45.0\n",
       "Win            Blue\n",
       "Name: 91, dtype: object"
      ]
     },
     "execution_count": 22,
     "metadata": {},
     "output_type": "execute_result"
    }
   ],
   "source": [
    "presidential.loc[91,'DEM(%)'] = 53.0\n",
    "presidential.loc[91, 'REP(%)'] = 45.0\n",
    "presidential.loc[91]"
   ]
  },
  {
   "cell_type": "code",
   "execution_count": 23,
   "id": "0655f5b9-7050-4324-9616-0bdb42ca6705",
   "metadata": {},
   "outputs": [
    {
     "data": {
      "text/plain": [
       "Year             2020\n",
       "County    San Joaquin\n",
       "DEM            161137\n",
       "DEM(%)           55.9\n",
       "REP            121098\n",
       "REP(%)           42.0\n",
       "Win              Blue\n",
       "Name: 97, dtype: object"
      ]
     },
     "execution_count": 23,
     "metadata": {},
     "output_type": "execute_result"
    }
   ],
   "source": [
    "presidential.loc[97,'REP(%)'] = 42.0\n",
    "presidential.loc[97, 'Win'] = 'Blue'\n",
    "presidential.loc[97]"
   ]
  },
  {
   "cell_type": "code",
   "execution_count": 24,
   "id": "89e1c0fc-c5ad-4f21-ba84-eee1abc9ff25",
   "metadata": {},
   "outputs": [
    {
     "data": {
      "text/plain": [
       "Year        2020\n",
       "County    Sonoma\n",
       "DEM       199938\n",
       "DEM(%)      74.5\n",
       "REP        61825\n",
       "REP(%)      23.0\n",
       "Win         Blue\n",
       "Name: 107, dtype: object"
      ]
     },
     "execution_count": 24,
     "metadata": {},
     "output_type": "execute_result"
    }
   ],
   "source": [
    "presidential.loc[107,'REP(%)'] = 23.0\n",
    "presidential.loc[107, 'Win'] = 'Blue'\n",
    "presidential.loc[107]"
   ]
  },
  {
   "cell_type": "code",
   "execution_count": 25,
   "id": "019c50e0-72bb-47ef-a00d-e1ed0f50bb3f",
   "metadata": {},
   "outputs": [
    {
     "data": {
      "text/plain": [
       "Year        2020\n",
       "County    Tehama\n",
       "DEM         8911\n",
       "DEM(%)      31.0\n",
       "REP        19141\n",
       "REP(%)      66.6\n",
       "Win          Red\n",
       "Name: 110, dtype: object"
      ]
     },
     "execution_count": 25,
     "metadata": {},
     "output_type": "execute_result"
    }
   ],
   "source": [
    "presidential.loc[110,'DEM(%)'] = 31.0\n",
    "presidential.loc[110, 'Win'] = 'Red'\n",
    "presidential.loc[110]"
   ]
  },
  {
   "cell_type": "code",
   "execution_count": 26,
   "id": "69f5f1fc-49c8-4f3e-9108-b160d7b06e2c",
   "metadata": {},
   "outputs": [
    {
     "data": {
      "text/plain": [
       "Year        2020\n",
       "County    Tulare\n",
       "DEM        66105\n",
       "DEM(%)      45.0\n",
       "REP        77579\n",
       "REP(%)      52.8\n",
       "Win          Red\n",
       "Name: 112, dtype: object"
      ]
     },
     "execution_count": 26,
     "metadata": {},
     "output_type": "execute_result"
    }
   ],
   "source": [
    "presidential.loc[112,'DEM(%)'] = 45.0\n",
    "presidential.loc[112, 'Win'] = 'Red'\n",
    "presidential.loc[112]"
   ]
  },
  {
   "cell_type": "code",
   "execution_count": 27,
   "id": "3d93cf45-6923-4e6b-8d9c-ecf176fb3045",
   "metadata": {},
   "outputs": [
    {
     "name": "stdout",
     "output_type": "stream",
     "text": [
      "<class 'pandas.core.frame.DataFrame'>\n",
      "Index: 116 entries, 0 to 116\n",
      "Data columns (total 7 columns):\n",
      " #   Column  Non-Null Count  Dtype  \n",
      "---  ------  --------------  -----  \n",
      " 0   Year    116 non-null    int64  \n",
      " 1   County  116 non-null    object \n",
      " 2   DEM     116 non-null    int64  \n",
      " 3   DEM(%)  116 non-null    float64\n",
      " 4   REP     116 non-null    int64  \n",
      " 5   REP(%)  116 non-null    float64\n",
      " 6   Win     116 non-null    object \n",
      "dtypes: float64(2), int64(3), object(2)\n",
      "memory usage: 11.3+ KB\n"
     ]
    }
   ],
   "source": [
    "# Dataset summary\n",
    "presidential.info()"
   ]
  },
  {
   "cell_type": "code",
   "execution_count": 28,
   "id": "4f04cd25-6d39-4a13-8ddb-b59b3dabd94b",
   "metadata": {},
   "outputs": [
    {
     "data": {
      "text/html": [
       "<div>\n",
       "<style scoped>\n",
       "    .dataframe tbody tr th:only-of-type {\n",
       "        vertical-align: middle;\n",
       "    }\n",
       "\n",
       "    .dataframe tbody tr th {\n",
       "        vertical-align: top;\n",
       "    }\n",
       "\n",
       "    .dataframe thead th {\n",
       "        text-align: right;\n",
       "    }\n",
       "</style>\n",
       "<table border=\"1\" class=\"dataframe\">\n",
       "  <thead>\n",
       "    <tr style=\"text-align: right;\">\n",
       "      <th></th>\n",
       "      <th>Year</th>\n",
       "      <th>DEM</th>\n",
       "      <th>DEM(%)</th>\n",
       "      <th>REP</th>\n",
       "      <th>REP(%)</th>\n",
       "    </tr>\n",
       "  </thead>\n",
       "  <tbody>\n",
       "    <tr>\n",
       "      <th>count</th>\n",
       "      <td>116.000000</td>\n",
       "      <td>1.160000e+02</td>\n",
       "      <td>116.000000</td>\n",
       "      <td>1.160000e+02</td>\n",
       "      <td>116.000000</td>\n",
       "    </tr>\n",
       "    <tr>\n",
       "      <th>mean</th>\n",
       "      <td>2018.000000</td>\n",
       "      <td>1.712451e+05</td>\n",
       "      <td>51.860345</td>\n",
       "      <td>9.043386e+04</td>\n",
       "      <td>43.172414</td>\n",
       "    </tr>\n",
       "    <tr>\n",
       "      <th>std</th>\n",
       "      <td>2.008677</td>\n",
       "      <td>3.942534e+05</td>\n",
       "      <td>15.219415</td>\n",
       "      <td>1.693362e+05</td>\n",
       "      <td>15.054854</td>\n",
       "    </tr>\n",
       "    <tr>\n",
       "      <th>min</th>\n",
       "      <td>2016.000000</td>\n",
       "      <td>3.340000e+02</td>\n",
       "      <td>21.100000</td>\n",
       "      <td>2.170000e+02</td>\n",
       "      <td>9.300000</td>\n",
       "    </tr>\n",
       "    <tr>\n",
       "      <th>25%</th>\n",
       "      <td>2016.000000</td>\n",
       "      <td>8.100750e+03</td>\n",
       "      <td>39.725000</td>\n",
       "      <td>1.122775e+04</td>\n",
       "      <td>31.525000</td>\n",
       "    </tr>\n",
       "    <tr>\n",
       "      <th>50%</th>\n",
       "      <td>2018.000000</td>\n",
       "      <td>4.038300e+04</td>\n",
       "      <td>51.400000</td>\n",
       "      <td>2.569550e+04</td>\n",
       "      <td>43.700000</td>\n",
       "    </tr>\n",
       "    <tr>\n",
       "      <th>75%</th>\n",
       "      <td>2020.000000</td>\n",
       "      <td>1.353598e+05</td>\n",
       "      <td>63.900000</td>\n",
       "      <td>8.110450e+04</td>\n",
       "      <td>55.000000</td>\n",
       "    </tr>\n",
       "    <tr>\n",
       "      <th>max</th>\n",
       "      <td>2020.000000</td>\n",
       "      <td>3.028885e+06</td>\n",
       "      <td>85.300000</td>\n",
       "      <td>1.145530e+06</td>\n",
       "      <td>74.800000</td>\n",
       "    </tr>\n",
       "  </tbody>\n",
       "</table>\n",
       "</div>"
      ],
      "text/plain": [
       "              Year           DEM      DEM(%)           REP      REP(%)\n",
       "count   116.000000  1.160000e+02  116.000000  1.160000e+02  116.000000\n",
       "mean   2018.000000  1.712451e+05   51.860345  9.043386e+04   43.172414\n",
       "std       2.008677  3.942534e+05   15.219415  1.693362e+05   15.054854\n",
       "min    2016.000000  3.340000e+02   21.100000  2.170000e+02    9.300000\n",
       "25%    2016.000000  8.100750e+03   39.725000  1.122775e+04   31.525000\n",
       "50%    2018.000000  4.038300e+04   51.400000  2.569550e+04   43.700000\n",
       "75%    2020.000000  1.353598e+05   63.900000  8.110450e+04   55.000000\n",
       "max    2020.000000  3.028885e+06   85.300000  1.145530e+06   74.800000"
      ]
     },
     "execution_count": 28,
     "metadata": {},
     "output_type": "execute_result"
    }
   ],
   "source": [
    "presidential.describe()"
   ]
  },
  {
   "cell_type": "code",
   "execution_count": 30,
   "id": "5b0a374a-72ca-4d09-9b28-062c9e0be7d1",
   "metadata": {},
   "outputs": [],
   "source": [
    "presidential.to_csv(\"../data/cleaned_data/presidentialResult.csv\", index=False)"
   ]
  },
  {
   "cell_type": "markdown",
   "id": "66eda343-6a38-490f-9239-2913a8132c86",
   "metadata": {},
   "source": [
    "# EDA"
   ]
  },
  {
   "cell_type": "code",
   "execution_count": 166,
   "id": "c79df497-db9a-457b-99ee-51b2104de748",
   "metadata": {
    "scrolled": true
   },
   "outputs": [
    {
     "data": {
      "text/plain": [
       "RendererRegistry.enable('jupyterlab')"
      ]
     },
     "execution_count": 166,
     "metadata": {},
     "output_type": "execute_result"
    }
   ],
   "source": [
    "import altair as alt\n",
    "from toolz.curried import pipe\n",
    "\n",
    "# Create a new data transformer that stores the files in a directory\n",
    "def json_dir(data, data_dir='altairdata'):\n",
    "    os.makedirs(data_dir, exist_ok=True)\n",
    "    return pipe(data, alt.to_json(filename=data_dir + '/{prefix}-{hash}.{extension}') )\n",
    "\n",
    "# Register and enable the new transformer\n",
    "alt.data_transformers.register('json_dir', json_dir)\n",
    "alt.data_transformers.enable('json_dir')\n",
    "\n",
    "# Handle large data sets (default shows only 5000)\n",
    "# See here: https://altair-viz.github.io/user_guide/data_transformers.html\n",
    "alt.data_transformers.disable_max_rows()\n",
    "\n",
    "alt.renderers.enable('jupyterlab')"
   ]
  },
  {
   "cell_type": "code",
   "execution_count": 167,
   "id": "04b2afb1-084c-4676-a32f-581538e8d82a",
   "metadata": {},
   "outputs": [
    {
     "data": {
      "text/html": [
       "<div>\n",
       "<style scoped>\n",
       "    .dataframe tbody tr th:only-of-type {\n",
       "        vertical-align: middle;\n",
       "    }\n",
       "\n",
       "    .dataframe tbody tr th {\n",
       "        vertical-align: top;\n",
       "    }\n",
       "\n",
       "    .dataframe thead th {\n",
       "        text-align: right;\n",
       "    }\n",
       "</style>\n",
       "<table border=\"1\" class=\"dataframe\">\n",
       "  <thead>\n",
       "    <tr style=\"text-align: right;\">\n",
       "      <th></th>\n",
       "      <th>Year</th>\n",
       "      <th>Total_Admits</th>\n",
       "      <th>30_day_Readmits</th>\n",
       "      <th>30_day_Readmission_Rate</th>\n",
       "    </tr>\n",
       "  </thead>\n",
       "  <tbody>\n",
       "    <tr>\n",
       "      <th>count</th>\n",
       "      <td>116.000000</td>\n",
       "      <td>116.000000</td>\n",
       "      <td>116.000000</td>\n",
       "      <td>116.000000</td>\n",
       "    </tr>\n",
       "    <tr>\n",
       "      <th>mean</th>\n",
       "      <td>2018.000000</td>\n",
       "      <td>29326.387931</td>\n",
       "      <td>4242.025862</td>\n",
       "      <td>13.520517</td>\n",
       "    </tr>\n",
       "    <tr>\n",
       "      <th>std</th>\n",
       "      <td>2.008677</td>\n",
       "      <td>63784.013367</td>\n",
       "      <td>9740.270928</td>\n",
       "      <td>2.323387</td>\n",
       "    </tr>\n",
       "    <tr>\n",
       "      <th>min</th>\n",
       "      <td>2016.000000</td>\n",
       "      <td>7.000000</td>\n",
       "      <td>1.000000</td>\n",
       "      <td>4.760000</td>\n",
       "    </tr>\n",
       "    <tr>\n",
       "      <th>25%</th>\n",
       "      <td>2016.000000</td>\n",
       "      <td>2612.250000</td>\n",
       "      <td>356.750000</td>\n",
       "      <td>12.315000</td>\n",
       "    </tr>\n",
       "    <tr>\n",
       "      <th>50%</th>\n",
       "      <td>2018.000000</td>\n",
       "      <td>8369.000000</td>\n",
       "      <td>1121.500000</td>\n",
       "      <td>13.770000</td>\n",
       "    </tr>\n",
       "    <tr>\n",
       "      <th>75%</th>\n",
       "      <td>2020.000000</td>\n",
       "      <td>28287.000000</td>\n",
       "      <td>4072.500000</td>\n",
       "      <td>14.532500</td>\n",
       "    </tr>\n",
       "    <tr>\n",
       "      <th>max</th>\n",
       "      <td>2020.000000</td>\n",
       "      <td>493868.000000</td>\n",
       "      <td>77874.000000</td>\n",
       "      <td>28.570000</td>\n",
       "    </tr>\n",
       "  </tbody>\n",
       "</table>\n",
       "</div>"
      ],
      "text/plain": [
       "              Year   Total_Admits  30_day_Readmits  30_day_Readmission_Rate\n",
       "count   116.000000     116.000000       116.000000               116.000000\n",
       "mean   2018.000000   29326.387931      4242.025862                13.520517\n",
       "std       2.008677   63784.013367      9740.270928                 2.323387\n",
       "min    2016.000000       7.000000         1.000000                 4.760000\n",
       "25%    2016.000000    2612.250000       356.750000                12.315000\n",
       "50%    2018.000000    8369.000000      1121.500000                13.770000\n",
       "75%    2020.000000   28287.000000      4072.500000                14.532500\n",
       "max    2020.000000  493868.000000     77874.000000                28.570000"
      ]
     },
     "execution_count": 167,
     "metadata": {},
     "output_type": "execute_result"
    }
   ],
   "source": [
    "cleaned_primary.describe()"
   ]
  },
  {
   "cell_type": "code",
   "execution_count": 168,
   "id": "f9ffea1b-de68-4118-857a-a2248f492a74",
   "metadata": {},
   "outputs": [
    {
     "name": "stdout",
     "output_type": "stream",
     "text": [
      "<class 'pandas.core.frame.DataFrame'>\n",
      "Index: 116 entries, 290 to 580\n",
      "Data columns (total 5 columns):\n",
      " #   Column                   Non-Null Count  Dtype  \n",
      "---  ------                   --------------  -----  \n",
      " 0   Year                     116 non-null    int64  \n",
      " 1   County                   116 non-null    object \n",
      " 2   Total_Admits             116 non-null    int64  \n",
      " 3   30_day_Readmits          116 non-null    int64  \n",
      " 4   30_day_Readmission_Rate  116 non-null    float64\n",
      "dtypes: float64(1), int64(3), object(1)\n",
      "memory usage: 5.4+ KB\n"
     ]
    }
   ],
   "source": [
    "cleaned_primary.info()"
   ]
  },
  {
   "cell_type": "code",
   "execution_count": 169,
   "id": "614cd952-e664-496a-ba4c-0008a6526312",
   "metadata": {
    "scrolled": true
   },
   "outputs": [
    {
     "data": {
      "application/vnd.vegalite.v5+json": {
       "$schema": "https://vega.github.io/schema/vega-lite/v5.20.1.json",
       "config": {
        "view": {
         "continuousHeight": 300,
         "continuousWidth": 300
        }
       },
       "data": {
        "format": {
         "type": "json"
        },
        "url": "altairdata/altair-data-15d5948d2fce23d9fb9a0f9ee68e0342.json"
       },
       "encoding": {
        "color": {
         "field": "Year",
         "type": "nominal"
        },
        "tooltip": [
         {
          "aggregate": "count",
          "type": "quantitative"
         }
        ],
        "x": {
         "bin": {
          "maxbins": 30
         },
         "field": "30_day_Readmission_Rate",
         "type": "quantitative"
        },
        "y": {
         "aggregate": "count",
         "type": "quantitative"
        }
       },
       "height": 300,
       "mark": {
        "type": "bar"
       },
       "title": "Distribution of 30 day readmission rates by Year",
       "width": 500
      },
      "image/png": "[encoded data removed]",
      "text/plain": [
       "<VegaLite 5 object>\n",
       "\n",
       "If you see this message, it means the renderer has not been properly enabled\n",
       "for the frontend that you are using. For more information, see\n",
       "https://altair-viz.github.io/user_guide/display_frontends.html#troubleshooting\n"
      ]
     },
     "execution_count": 169,
     "metadata": {},
     "output_type": "execute_result"
    }
   ],
   "source": [
    "dist = alt.Chart(cleaned_primary).mark_bar().encode(\n",
    "    alt.X(\"30_day_Readmission_Rate:Q\").bin(maxbins=30),\n",
    "    y=\"count()\",\n",
    "    color = alt.Color('Year:N'),\n",
    "    tooltip=['count()']\n",
    ").properties(\n",
    "    title = \"Distribution of 30 day readmission rates by Year\",\n",
    "    width = 500,\n",
    "    height = 300\n",
    ")\n",
    "dist"
   ]
  },
  {
   "cell_type": "code",
   "execution_count": 170,
   "id": "6a07c617-7d96-4792-a6be-1303f334e4b8",
   "metadata": {},
   "outputs": [
    {
     "data": {
      "application/vnd.vegalite.v5+json": {
       "$schema": "https://vega.github.io/schema/vega-lite/v5.20.1.json",
       "config": {
        "view": {
         "continuousHeight": 300,
         "continuousWidth": 300
        }
       },
       "data": {
        "format": {
         "type": "json"
        },
        "url": "altairdata/altair-data-15d5948d2fce23d9fb9a0f9ee68e0342.json"
       },
       "encoding": {
        "color": {
         "field": "Year",
         "type": "nominal"
        },
        "x": {
         "field": "County",
         "type": "nominal"
        },
        "y": {
         "field": "30_day_Readmission_Rate",
         "type": "quantitative"
        }
       },
       "mark": {
        "type": "line"
       }
      },
      "image/png": "[encoded data removed]",
      "text/plain": [
       "<VegaLite 5 object>\n",
       "\n",
       "If you see this message, it means the renderer has not been properly enabled\n",
       "for the frontend that you are using. For more information, see\n",
       "https://altair-viz.github.io/user_guide/display_frontends.html#troubleshooting\n"
      ]
     },
     "execution_count": 170,
     "metadata": {},
     "output_type": "execute_result"
    }
   ],
   "source": [
    "alt.Chart(cleaned_primary).mark_line().encode(\n",
    "    alt.Y(\"30_day_Readmission_Rate:Q\"),\n",
    "    alt.X(\"County:N\"),\n",
    "    alt.Color('Year:N')\n",
    ")"
   ]
  },
  {
   "cell_type": "code",
   "execution_count": 171,
   "id": "4d8a0496-977b-4e44-ac36-fdc6f0aed905",
   "metadata": {},
   "outputs": [
    {
     "data": {
      "application/vnd.vegalite.v5+json": {
       "$schema": "https://vega.github.io/schema/vega-lite/v5.20.1.json",
       "config": {
        "view": {
         "continuousHeight": 300,
         "continuousWidth": 300
        }
       },
       "repeat": {
        "column": [
         "Total_Admits",
         "30_day_Readmits",
         "30_day_Readmission_Rate"
        ]
       },
       "spec": {
        "data": {
         "format": {
          "type": "json"
         },
         "url": "altairdata/altair-data-15d5948d2fce23d9fb9a0f9ee68e0342.json"
        },
        "encoding": {
         "x": {
          "field": {
           "repeat": "column"
          },
          "type": "quantitative"
         },
         "y": {
          "field": "Year",
          "type": "nominal"
         }
        },
        "mark": {
         "type": "boxplot"
        }
       }
      },
      "image/png": "[encoded data removed]",
      "text/plain": [
       "<VegaLite 5 object>\n",
       "\n",
       "If you see this message, it means the renderer has not been properly enabled\n",
       "for the frontend that you are using. For more information, see\n",
       "https://altair-viz.github.io/user_guide/display_frontends.html#troubleshooting\n"
      ]
     },
     "execution_count": 171,
     "metadata": {},
     "output_type": "execute_result"
    }
   ],
   "source": [
    "alt.Chart(cleaned_primary).mark_boxplot().encode(\n",
    "    alt.X(alt.repeat(\"column\"), type='quantitative'),\n",
    "    alt.Y(\"Year:N\"),\n",
    ").repeat(\n",
    "    column=['Total_Admits', '30_day_Readmits','30_day_Readmission_Rate']\n",
    ")"
   ]
  },
  {
   "cell_type": "code",
   "execution_count": 172,
   "id": "2f17d28c-55c8-4364-a4cf-c15a2ac7c02f",
   "metadata": {},
   "outputs": [
    {
     "data": {
      "application/vnd.vegalite.v5+json": {
       "$schema": "https://vega.github.io/schema/vega-lite/v5.20.1.json",
       "config": {
        "view": {
         "continuousHeight": 300,
         "continuousWidth": 300
        }
       },
       "repeat": {
        "column": [
         "DEM",
         "DEM(%)",
         "REP",
         "REP(%)"
        ]
       },
       "spec": {
        "data": {
         "format": {
          "type": "json"
         },
         "url": "altairdata/altair-data-7692f00099f8424b65fb57a39bf090b2.json"
        },
        "encoding": {
         "x": {
          "field": {
           "repeat": "column"
          },
          "type": "quantitative"
         },
         "y": {
          "field": "Year",
          "type": "nominal"
         }
        },
        "mark": {
         "type": "boxplot"
        }
       }
      },
      "image/png": "[encoded data removed]",
      "text/plain": [
       "<VegaLite 5 object>\n",
       "\n",
       "If you see this message, it means the renderer has not been properly enabled\n",
       "for the frontend that you are using. For more information, see\n",
       "https://altair-viz.github.io/user_guide/display_frontends.html#troubleshooting\n"
      ]
     },
     "execution_count": 172,
     "metadata": {},
     "output_type": "execute_result"
    }
   ],
   "source": [
    "alt.Chart(presidential).mark_boxplot().encode(\n",
    "    alt.X(alt.repeat(\"column\"), type='quantitative'),\n",
    "    alt.Y(\"Year:N\"),\n",
    ").repeat(\n",
    "    column=['DEM', 'DEM(%)','REP','REP(%)']\n",
    ")"
   ]
  },
  {
   "cell_type": "code",
   "execution_count": 173,
   "id": "46893b78-bcdb-41a8-bb19-f33de8404570",
   "metadata": {},
   "outputs": [
    {
     "data": {
      "application/vnd.vegalite.v5+json": {
       "$schema": "https://vega.github.io/schema/vega-lite/v5.20.1.json",
       "config": {
        "view": {
         "continuousHeight": 300,
         "continuousWidth": 300
        }
       },
       "data": {
        "format": {
         "type": "json"
        },
        "url": "altairdata/altair-data-7692f00099f8424b65fb57a39bf090b2.json"
       },
       "encoding": {
        "color": {
         "field": "Year",
         "type": "nominal"
        },
        "x": {
         "field": "County",
         "type": "nominal"
        },
        "y": {
         "field": "Win",
         "type": "nominal"
        }
       },
       "mark": {
        "type": "point"
       }
      },
      "image/png": "[encoded data removed]",
      "text/plain": [
       "<VegaLite 5 object>\n",
       "\n",
       "If you see this message, it means the renderer has not been properly enabled\n",
       "for the frontend that you are using. For more information, see\n",
       "https://altair-viz.github.io/user_guide/display_frontends.html#troubleshooting\n"
      ]
     },
     "execution_count": 173,
     "metadata": {},
     "output_type": "execute_result"
    }
   ],
   "source": [
    "alt.Chart(presidential).mark_point().encode(\n",
    "    alt.X(\"County\"),\n",
    "    alt.Y('Win'),\n",
    "    color = alt.Color('Year:N')\n",
    ")"
   ]
  },
  {
   "cell_type": "markdown",
   "id": "7a3fafce-5fd5-4bcd-b692-2335623211fb",
   "metadata": {},
   "source": [
    "# Generate SQL statements"
   ]
  },
  {
   "cell_type": "code",
   "execution_count": 174,
   "id": "654836c2-c58c-4b44-b00e-a812c4b31dcf",
   "metadata": {},
   "outputs": [
    {
     "data": {
      "text/plain": [
       "['Year',\n",
       " 'County',\n",
       " 'Total_Admits',\n",
       " '30_day_Readmits',\n",
       " '30_day_Readmission_Rate']"
      ]
     },
     "execution_count": 174,
     "metadata": {},
     "output_type": "execute_result"
    }
   ],
   "source": [
    "primary_column=cleaned_primary.columns.to_list()\n",
    "primary_column"
   ]
  },
  {
   "cell_type": "code",
   "execution_count": 175,
   "id": "7ec92496-69f9-4ea1-8eb6-323e8e43d255",
   "metadata": {},
   "outputs": [
    {
     "data": {
      "text/plain": [
       "['Year', 'County', 'DEM', 'DEM(%)', 'REP', 'REP(%)', 'Win']"
      ]
     },
     "execution_count": 175,
     "metadata": {},
     "output_type": "execute_result"
    }
   ],
   "source": [
    "presidential_column = presidential.columns.to_list()\n",
    "presidential_column"
   ]
  },
  {
   "cell_type": "code",
   "execution_count": 176,
   "id": "f2a58231-5994-4b8a-9b1b-8d2bdd5ddaab",
   "metadata": {},
   "outputs": [
    {
     "name": "stdout",
     "output_type": "stream",
     "text": [
      "Generated 116 healthcare INSERT statements\n",
      "Generated 116 election INSERT statements\n",
      "All statements saved to insert_statements.sql\n"
     ]
    }
   ],
   "source": [
    "import re\n",
    "def clean_column_name(col):\n",
    "    return re.sub(r'[^a-zA-Z0-9_]', '_', col).lower()\n",
    "\n",
    "def generate_insert_statements(df, table_name):\n",
    "\n",
    "    insert_statements = []\n",
    "    df.columns = [clean_column_name(col) for col in df.columns]\n",
    "    \n",
    "    for _, row in df.iterrows():\n",
    "        values = []\n",
    "        for val in row:\n",
    "            if pd.isna(val):\n",
    "                values.append('NULL')\n",
    "            elif isinstance(val, (int, float)):\n",
    "                values.append(str(val))\n",
    "            else:\n",
    "                val_str = str(val).replace(\"'\", \"''\")\n",
    "                if any(x in str(val) for x in ['%', '_rate']):\n",
    "                    val_str = val_str.rstrip('%')\n",
    "                values.append(f\"'{val_str}'\")\n",
    "        \n",
    "        cols = ', '.join(df.columns)\n",
    "        vals = ', '.join(values)\n",
    "        insert_statements.append(f\"INSERT INTO {table_name} ({cols}) VALUES ({vals});\")\n",
    "    \n",
    "    return insert_statements\n",
    "\n",
    "primary_inserts = generate_insert_statements(cleaned_primary, \"readmissions\")\n",
    "presidential_inserts = generate_insert_statements(presidential, \"elections\")\n",
    "\n",
    "all_inserts = primary_inserts + presidential_inserts\n",
    "\n",
    "with open(\"insert_statements.sql\", \"w\") as f:\n",
    "    f.write(\"-- Healthcare Admissions Data\\n\")\n",
    "    f.write(\"\\n\".join(primary_inserts))\n",
    "    f.write(\"\\n\\n-- Election Results Data\\n\")\n",
    "    f.write(\"\\n\".join(presidential_inserts))\n",
    "\n",
    "print(f\"Generated {len(primary_inserts)} healthcare INSERT statements\")\n",
    "print(f\"Generated {len(presidential_inserts)} election INSERT statements\")\n",
    "print(\"All statements saved to insert_statements.sql\")"
   ]
  },
  {
   "cell_type": "code",
   "execution_count": null,
   "id": "d0b74861-742f-4731-9ee0-9d3efdcb8eeb",
   "metadata": {},
   "outputs": [],
   "source": []
  }
 ],
 "metadata": {
  "kernelspec": {
   "display_name": "Python 3 (ipykernel)",
   "language": "python",
   "name": "python3"
  },
  "language_info": {
   "codemirror_mode": {
    "name": "ipython",
    "version": 3
   },
   "file_extension": ".py",
   "mimetype": "text/x-python",
   "name": "python",
   "nbconvert_exporter": "python",
   "pygments_lexer": "ipython3",
   "version": "3.12.8"
  }
 },
 "nbformat": 4,
 "nbformat_minor": 5
}
