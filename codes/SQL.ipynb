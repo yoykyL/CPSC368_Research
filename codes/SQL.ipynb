{
 "cells": [
  {
   "cell_type": "code",
   "id": "initial_id",
   "metadata": {
    "collapsed": true,
    "ExecuteTime": {
     "end_time": "2025-04-08T23:32:01.581447Z",
     "start_time": "2025-04-08T23:32:01.111579Z"
    }
   },
   "source": [
    "import sqlite3\n",
    "import pandas as pd\n",
    "import altair as alt\n",
    "import os"
   ],
   "outputs": [],
   "execution_count": 1
  },
  {
   "metadata": {
    "ExecuteTime": {
     "end_time": "2025-04-08T23:32:01.593146Z",
     "start_time": "2025-04-08T23:32:01.584320Z"
    }
   },
   "cell_type": "code",
   "source": [
    "# Load cleaned CSVs\n",
    "primary = pd.read_csv(\"../data/cleaned_data/primary.csv\")\n",
    "presidential = pd.read_csv(\"../data/cleaned_data/presidentialResult.csv\")\n",
    "\n",
    "# Connect to SQLite DB (will create one if it doesn't exist)\n",
    "conn = sqlite3.connect(\"../research.db\")\n"
   ],
   "id": "171915adc44fefd7",
   "outputs": [],
   "execution_count": 2
  },
  {
   "metadata": {
    "ExecuteTime": {
     "end_time": "2025-04-08T23:32:01.695467Z",
     "start_time": "2025-04-08T23:32:01.689689Z"
    }
   },
   "cell_type": "code",
   "source": [
    "# Write data to tables\n",
    "primary.to_sql(\"readmissions\", conn, if_exists=\"replace\", index=False)\n",
    "presidential.to_sql(\"elections\", conn, if_exists=\"replace\", index=False)\n",
    "\n",
    "# Ensure output folder exists\n",
    "os.makedirs(\"../output\", exist_ok=True)\n",
    "\n",
    "# Connect to the SQLite DB\n",
    "conn = sqlite3.connect(\"../research.db\")"
   ],
   "id": "6678066244ce30a1",
   "outputs": [],
   "execution_count": 3
  },
  {
   "metadata": {
    "ExecuteTime": {
     "end_time": "2025-04-08T23:32:01.703254Z",
     "start_time": "2025-04-08T23:32:01.700758Z"
    }
   },
   "cell_type": "code",
   "source": [
    "### RQ1: Change in voting pattern vs. change in readmission rates --- ###\n",
    "query_Research_Question1 = \"\"\"\n",
    "SELECT\n",
    "    e2016.County,\n",
    "    e2016.Win AS Win_2016,\n",
    "    e2020.Win AS Win_2020,\n",
    "    r2016.\"30_day_Readmission_Rate\" AS Readmit_2016,\n",
    "    r2020.\"30_day_Readmission_Rate\" AS Readmit_2020,\n",
    "    ROUND(r2020.\"30_day_Readmission_Rate\" - r2016.\"30_day_Readmission_Rate\", 2) AS Rate_Change\n",
    "FROM elections e2016\n",
    "JOIN elections e2020 ON e2016.County = e2020.County AND e2016.Year = 2016 AND e2020.Year = 2020\n",
    "JOIN readmissions r2016 ON e2016.County = r2016.County AND r2016.Year = 2016\n",
    "JOIN readmissions r2020 ON e2020.County = r2020.County AND r2020.Year = 2020;\n",
    "\"\"\"\n",
    "rq1_df = pd.read_sql_query(query_Research_Question1, conn)\n"
   ],
   "id": "dd16b71717e37fb0",
   "outputs": [],
   "execution_count": 4
  },
  {
   "metadata": {
    "ExecuteTime": {
     "end_time": "2025-04-08T23:32:01.728635Z",
     "start_time": "2025-04-08T23:32:01.709923Z"
    }
   },
   "cell_type": "code",
   "source": [
    "### RQ2: Average rate change for consistent vs. switched counties --- ###\n",
    "query_Research_Question2 = \"\"\"\n",
    "SELECT\n",
    "    CASE\n",
    "        WHEN e2016.Win = e2020.Win THEN 'Consistent'\n",
    "        ELSE 'Switched'\n",
    "    END AS Voting_Change,\n",
    "    ROUND(AVG(r2020.\"30_day_Readmission_Rate\" - r2016.\"30_day_Readmission_Rate\"), 2) AS Avg_Readmit_Change\n",
    "FROM elections e2016\n",
    "JOIN elections e2020 ON e2016.County = e2020.County AND e2016.Year = 2016 AND e2020.Year = 2020\n",
    "JOIN readmissions r2016 ON e2016.County = r2016.County AND r2016.Year = 2016\n",
    "JOIN readmissions r2020 ON e2020.County = r2020.County AND r2020.Year = 2020\n",
    "GROUP BY Voting_Change;\n",
    "\"\"\"\n",
    "rq2_df = pd.read_sql_query(query_Research_Question2, conn)\n",
    "\n",
    "\n",
    "# Simple bar chart\n",
    "alt.Chart(rq2_df).mark_bar().encode(\n",
    "    x='Voting_Change:N',\n",
    "    y='Avg_Readmit_Change:Q',\n",
    "    color='Voting_Change:N'\n",
    ").properties(\n",
    "    title='Average Readmission Rate Change: Consistent vs Switched Counties'\n",
    ")\n"
   ],
   "id": "3a9cd5ef2bfde92b",
   "outputs": [
    {
     "data": {
      "text/html": [
       "\n",
       "<style>\n",
       "  #altair-viz-5f72a4b91f7242eb9b92f81004489d1e.vega-embed {\n",
       "    width: 100%;\n",
       "    display: flex;\n",
       "  }\n",
       "\n",
       "  #altair-viz-5f72a4b91f7242eb9b92f81004489d1e.vega-embed details,\n",
       "  #altair-viz-5f72a4b91f7242eb9b92f81004489d1e.vega-embed details summary {\n",
       "    position: relative;\n",
       "  }\n",
       "</style>\n",
       "<div id=\"altair-viz-5f72a4b91f7242eb9b92f81004489d1e\"></div>\n",
       "<script type=\"text/javascript\">\n",
       "  var VEGA_DEBUG = (typeof VEGA_DEBUG == \"undefined\") ? {} : VEGA_DEBUG;\n",
       "  (function(spec, embedOpt){\n",
       "    let outputDiv = document.currentScript.previousElementSibling;\n",
       "    if (outputDiv.id !== \"altair-viz-5f72a4b91f7242eb9b92f81004489d1e\") {\n",
       "      outputDiv = document.getElementById(\"altair-viz-5f72a4b91f7242eb9b92f81004489d1e\");\n",
       "    }\n",
       "\n",
       "    const paths = {\n",
       "      \"vega\": \"https://cdn.jsdelivr.net/npm/vega@5?noext\",\n",
       "      \"vega-lib\": \"https://cdn.jsdelivr.net/npm/vega-lib?noext\",\n",
       "      \"vega-lite\": \"https://cdn.jsdelivr.net/npm/vega-lite@5.20.1?noext\",\n",
       "      \"vega-embed\": \"https://cdn.jsdelivr.net/npm/vega-embed@6?noext\",\n",
       "    };\n",
       "\n",
       "    function maybeLoadScript(lib, version) {\n",
       "      var key = `${lib.replace(\"-\", \"\")}_version`;\n",
       "      return (VEGA_DEBUG[key] == version) ?\n",
       "        Promise.resolve(paths[lib]) :\n",
       "        new Promise(function(resolve, reject) {\n",
       "          var s = document.createElement('script');\n",
       "          document.getElementsByTagName(\"head\")[0].appendChild(s);\n",
       "          s.async = true;\n",
       "          s.onload = () => {\n",
       "            VEGA_DEBUG[key] = version;\n",
       "            return resolve(paths[lib]);\n",
       "          };\n",
       "          s.onerror = () => reject(`Error loading script: ${paths[lib]}`);\n",
       "          s.src = paths[lib];\n",
       "        });\n",
       "    }\n",
       "\n",
       "    function showError(err) {\n",
       "      outputDiv.innerHTML = `<div class=\"error\" style=\"color:red;\">${err}</div>`;\n",
       "      throw err;\n",
       "    }\n",
       "\n",
       "    function displayChart(vegaEmbed) {\n",
       "      vegaEmbed(outputDiv, spec, embedOpt)\n",
       "        .catch(err => showError(`Javascript Error: ${err.message}<br>This usually means there's a typo in your chart specification. See the javascript console for the full traceback.`));\n",
       "    }\n",
       "\n",
       "    if(typeof define === \"function\" && define.amd) {\n",
       "      requirejs.config({paths});\n",
       "      let deps = [\"vega-embed\"];\n",
       "      require(deps, displayChart, err => showError(`Error loading script: ${err.message}`));\n",
       "    } else {\n",
       "      maybeLoadScript(\"vega\", \"5\")\n",
       "        .then(() => maybeLoadScript(\"vega-lite\", \"5.20.1\"))\n",
       "        .then(() => maybeLoadScript(\"vega-embed\", \"6\"))\n",
       "        .catch(showError)\n",
       "        .then(() => displayChart(vegaEmbed));\n",
       "    }\n",
       "  })({\"config\": {\"view\": {\"continuousWidth\": 300, \"continuousHeight\": 300}}, \"data\": {\"name\": \"data-5c0a508126971e1d300a9a487e243981\"}, \"mark\": {\"type\": \"bar\"}, \"encoding\": {\"color\": {\"field\": \"Voting_Change\", \"type\": \"nominal\"}, \"x\": {\"field\": \"Voting_Change\", \"type\": \"nominal\"}, \"y\": {\"field\": \"Avg_Readmit_Change\", \"type\": \"quantitative\"}}, \"title\": \"Average Readmission Rate Change: Consistent vs Switched Counties\", \"$schema\": \"https://vega.github.io/schema/vega-lite/v5.20.1.json\", \"datasets\": {\"data-5c0a508126971e1d300a9a487e243981\": [{\"Voting_Change\": \"Consistent\", \"Avg_Readmit_Change\": 0.61}, {\"Voting_Change\": \"Switched\", \"Avg_Readmit_Change\": 0.47}]}}, {\"mode\": \"vega-lite\"});\n",
       "</script>"
      ],
      "text/plain": [
       "alt.Chart(...)"
      ]
     },
     "execution_count": 5,
     "metadata": {},
     "output_type": "execute_result"
    }
   ],
   "execution_count": 5
  },
  {
   "metadata": {
    "ExecuteTime": {
     "end_time": "2025-04-08T23:32:01.759383Z",
     "start_time": "2025-04-08T23:32:01.737529Z"
    }
   },
   "cell_type": "code",
   "source": [
    "### --- RQ3: Average readmission by political leaning and year --- ###\n",
    "query_Research_Question3 = \"\"\"\n",
    "SELECT\n",
    "    e.Year,\n",
    "    e.Win,\n",
    "    ROUND(AVG(r.\"30_day_Readmission_Rate\"), 2) AS Avg_Readmission_Rate\n",
    "FROM elections e\n",
    "JOIN readmissions r ON e.County = r.County AND e.Year = r.Year\n",
    "GROUP BY e.Year, e.Win\n",
    "ORDER BY e.Year, e.Win;\n",
    "\"\"\"\n",
    "rq3_df = pd.read_sql_query(query_Research_Question3, conn)\n",
    "\n",
    "# Grouped bar chart\n",
    "alt.Chart(rq3_df).mark_bar().encode(\n",
    "    x='Win:N',\n",
    "    y='Avg_Readmission_Rate:Q',\n",
    "    color='Win:N',\n",
    "    column='Year:N'\n",
    ").properties(\n",
    "    title='Average Readmission Rate by Party (2016 vs 2020)'\n",
    ")\n"
   ],
   "id": "bca992eebcba5f45",
   "outputs": [
    {
     "data": {
      "text/html": [
       "\n",
       "<style>\n",
       "  #altair-viz-278546a90c8048ffb58d920aa4f6c19d.vega-embed {\n",
       "    width: 100%;\n",
       "    display: flex;\n",
       "  }\n",
       "\n",
       "  #altair-viz-278546a90c8048ffb58d920aa4f6c19d.vega-embed details,\n",
       "  #altair-viz-278546a90c8048ffb58d920aa4f6c19d.vega-embed details summary {\n",
       "    position: relative;\n",
       "  }\n",
       "</style>\n",
       "<div id=\"altair-viz-278546a90c8048ffb58d920aa4f6c19d\"></div>\n",
       "<script type=\"text/javascript\">\n",
       "  var VEGA_DEBUG = (typeof VEGA_DEBUG == \"undefined\") ? {} : VEGA_DEBUG;\n",
       "  (function(spec, embedOpt){\n",
       "    let outputDiv = document.currentScript.previousElementSibling;\n",
       "    if (outputDiv.id !== \"altair-viz-278546a90c8048ffb58d920aa4f6c19d\") {\n",
       "      outputDiv = document.getElementById(\"altair-viz-278546a90c8048ffb58d920aa4f6c19d\");\n",
       "    }\n",
       "\n",
       "    const paths = {\n",
       "      \"vega\": \"https://cdn.jsdelivr.net/npm/vega@5?noext\",\n",
       "      \"vega-lib\": \"https://cdn.jsdelivr.net/npm/vega-lib?noext\",\n",
       "      \"vega-lite\": \"https://cdn.jsdelivr.net/npm/vega-lite@5.20.1?noext\",\n",
       "      \"vega-embed\": \"https://cdn.jsdelivr.net/npm/vega-embed@6?noext\",\n",
       "    };\n",
       "\n",
       "    function maybeLoadScript(lib, version) {\n",
       "      var key = `${lib.replace(\"-\", \"\")}_version`;\n",
       "      return (VEGA_DEBUG[key] == version) ?\n",
       "        Promise.resolve(paths[lib]) :\n",
       "        new Promise(function(resolve, reject) {\n",
       "          var s = document.createElement('script');\n",
       "          document.getElementsByTagName(\"head\")[0].appendChild(s);\n",
       "          s.async = true;\n",
       "          s.onload = () => {\n",
       "            VEGA_DEBUG[key] = version;\n",
       "            return resolve(paths[lib]);\n",
       "          };\n",
       "          s.onerror = () => reject(`Error loading script: ${paths[lib]}`);\n",
       "          s.src = paths[lib];\n",
       "        });\n",
       "    }\n",
       "\n",
       "    function showError(err) {\n",
       "      outputDiv.innerHTML = `<div class=\"error\" style=\"color:red;\">${err}</div>`;\n",
       "      throw err;\n",
       "    }\n",
       "\n",
       "    function displayChart(vegaEmbed) {\n",
       "      vegaEmbed(outputDiv, spec, embedOpt)\n",
       "        .catch(err => showError(`Javascript Error: ${err.message}<br>This usually means there's a typo in your chart specification. See the javascript console for the full traceback.`));\n",
       "    }\n",
       "\n",
       "    if(typeof define === \"function\" && define.amd) {\n",
       "      requirejs.config({paths});\n",
       "      let deps = [\"vega-embed\"];\n",
       "      require(deps, displayChart, err => showError(`Error loading script: ${err.message}`));\n",
       "    } else {\n",
       "      maybeLoadScript(\"vega\", \"5\")\n",
       "        .then(() => maybeLoadScript(\"vega-lite\", \"5.20.1\"))\n",
       "        .then(() => maybeLoadScript(\"vega-embed\", \"6\"))\n",
       "        .catch(showError)\n",
       "        .then(() => displayChart(vegaEmbed));\n",
       "    }\n",
       "  })({\"config\": {\"view\": {\"continuousWidth\": 300, \"continuousHeight\": 300}}, \"data\": {\"name\": \"data-17dbf138ded70ce1b6eb392c8c9c218d\"}, \"mark\": {\"type\": \"bar\"}, \"encoding\": {\"color\": {\"field\": \"Win\", \"type\": \"nominal\"}, \"column\": {\"field\": \"Year\", \"type\": \"nominal\"}, \"x\": {\"field\": \"Win\", \"type\": \"nominal\"}, \"y\": {\"field\": \"Avg_Readmission_Rate\", \"type\": \"quantitative\"}}, \"title\": \"Average Readmission Rate by Party (2016 vs 2020)\", \"$schema\": \"https://vega.github.io/schema/vega-lite/v5.20.1.json\", \"datasets\": {\"data-17dbf138ded70ce1b6eb392c8c9c218d\": [{\"Year\": 2016, \"Win\": \"Blue\", \"Avg_Readmission_Rate\": 13.34}, {\"Year\": 2016, \"Win\": \"Red\", \"Avg_Readmission_Rate\": 13.05}, {\"Year\": 2020, \"Win\": \"Blue\", \"Avg_Readmission_Rate\": 14.23}, {\"Year\": 2020, \"Win\": \"Red\", \"Avg_Readmission_Rate\": 13.04}]}}, {\"mode\": \"vega-lite\"});\n",
       "</script>"
      ],
      "text/plain": [
       "alt.Chart(...)"
      ]
     },
     "execution_count": 6,
     "metadata": {},
     "output_type": "execute_result"
    }
   ],
   "execution_count": 6
  },
  {
   "metadata": {
    "ExecuteTime": {
     "end_time": "2025-04-08T23:32:01.791363Z",
     "start_time": "2025-04-08T23:32:01.788731Z"
    }
   },
   "cell_type": "code",
   "source": [
    "# Close DB connection\n",
    "conn.close()"
   ],
   "id": "5dbd98e78e93d32d",
   "outputs": [],
   "execution_count": 7
  },
  {
   "metadata": {},
   "cell_type": "code",
   "outputs": [],
   "execution_count": null,
   "source": "",
   "id": "f00f2cf95b20907c"
  }
 ],
 "metadata": {
  "kernelspec": {
   "display_name": "Python 3",
   "language": "python",
   "name": "python3"
  },
  "language_info": {
   "codemirror_mode": {
    "name": "ipython",
    "version": 2
   },
   "file_extension": ".py",
   "mimetype": "text/x-python",
   "name": "python",
   "nbconvert_exporter": "python",
   "pygments_lexer": "ipython2",
   "version": "2.7.6"
  }
 },
 "nbformat": 4,
 "nbformat_minor": 5
}
